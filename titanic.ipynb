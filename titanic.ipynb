{
  "nbformat": 4,
  "nbformat_minor": 0,
  "metadata": {
    "colab": {
      "name": "Titanic.ipynb",
      "provenance": [],
      "authorship_tag": "ABX9TyPrKVTjoFhO6hgmGdYEjgBB",
      "include_colab_link": true
    },
    "kernelspec": {
      "name": "python3",
      "display_name": "Python 3"
    }
  },
  "cells": [
    {
      "cell_type": "markdown",
      "metadata": {
        "id": "view-in-github",
        "colab_type": "text"
      },
      "source": [
        "<a href=\"https://colab.research.google.com/github/kevempedro/titanic-model/blob/main/titanic.ipynb\" target=\"_parent\"><img src=\"https://colab.research.google.com/assets/colab-badge.svg\" alt=\"Open In Colab\"/></a>"
      ]
    },
    {
      "cell_type": "markdown",
      "metadata": {
        "id": "YLL9Te92sd2D"
      },
      "source": [
        "O <a href=\"https://www.kaggle.com/c/titanic/\"> Titanic challenge</a>  é uma competição do Kaggle em que o objetivo é prever o passageiro que sobrevive ou morre baseado em uma série de variáveis como idade, sexo, tipo da passagem, etc.\n",
        "\n",
        "Este notebook é baseado no notebook do ahmedbasbas e objetivo é atingir um score de 0.8134. Com esse score é possível estar entre os 5% melhores do Kaggle."
      ]
    },
    {
      "cell_type": "markdown",
      "metadata": {
        "id": "XsKvHO80sd2E"
      },
      "source": [
        "\n",
        "Iniciaremos com uma fase de *exploratory data analysis* (EDA) depois *feature engineering* e finalmente faremos o modelo preditivo.\n",
        "\n",
        "\n",
        "As principais bibliotecas a serem utilizadas serão: \n",
        "\n",
        "* <b>Pandas</b> para manipulação e ingestão de dados.\n",
        "* <b>Matplotlib</b> e <b> seaborn</b> para visualização dos dados.\n",
        "* <b>Numpy</b> para computação de arrays multidimensionais.\n",
        "* <b>sklearn</b> para machine learning e modelagem preditiva. \n",
        "\n",
        "### Ambiente \n",
        "\n",
        "São 3 opcões:\n",
        "- instalar o jupyter na sua máquina. \n",
        "- Utilizar o notebook no próprio Kaggle\n",
        "- Utilizar o <a href=colab.research.google.com>colab</a> do google.\n",
        "\n",
        "Sugiro utilizar o colab.\n",
        "\n"
      ]
    },
    {
      "cell_type": "markdown",
      "metadata": {
        "id": "V783xA8Jsd2F"
      },
      "source": [
        "# I -  Exploratory data analysis\n",
        "\n",
        "Um projeto de data science sempre se inicia com uma análise cuidadosa dos dados e construção das primeiras impressões.\n",
        "\n",
        "Nesta sessão nós faremos quatro coisas:\n",
        "\n",
        "\n",
        "- Data extraction : vamos carregar os dados e dar a primeira olhada neles.\n",
        "- Cleaning : vamos preencher valores faltantes.\n",
        "- Plotting : vamos criar alguns gráficos interessantes e  (esperamos) achar correlações e insights escondidos nos dados.\n",
        "- Assumptions : iremos formular hipóteses a partir dos gráficos.\n"
      ]
    },
    {
      "cell_type": "code",
      "metadata": {
        "id": "bxxxS9Liir7N"
      },
      "source": [
        "from google.colab import drive\n",
        "drive.mount('/content/drive')"
      ],
      "execution_count": null,
      "outputs": []
    },
    {
      "cell_type": "markdown",
      "metadata": {
        "id": "yjz-smScsd2F"
      },
      "source": [
        "Primeiros vamos dar um tapa no estilo do notebook e centralizar os gráficos."
      ]
    },
    {
      "cell_type": "code",
      "metadata": {
        "id": "4nN4aTCXsd2G"
      },
      "source": [
        "from IPython.core.display import HTML\n",
        "HTML(\"\"\"\n",
        "<style>\n",
        ".output_png {\n",
        "    display: table-cell;\n",
        "    text-align: center;\n",
        "    vertical-align: middle;\n",
        "}\n",
        "</style>\n",
        "\"\"\");"
      ],
      "execution_count": null,
      "outputs": []
    },
    {
      "cell_type": "markdown",
      "metadata": {
        "id": "aGVPuyX5sd2M"
      },
      "source": [
        "Agora vamos importar as bibliotecas que serão úteis."
      ]
    },
    {
      "cell_type": "code",
      "metadata": {
        "id": "i7EXobW4sd2O"
      },
      "source": [
        "%matplotlib inline\n",
        "\n",
        "import warnings\n",
        "warnings.filterwarnings('ignore')\n",
        "warnings.filterwarnings('ignore', category=DeprecationWarning)\n",
        "\n",
        "import pandas as pd\n",
        "pd.options.display.max_columns = 100\n",
        "\n",
        "from matplotlib import pyplot as plt\n",
        "import numpy as np\n",
        "\n",
        "import seaborn as sns\n",
        "\n",
        "import pylab as plot\n",
        "params = { \n",
        "    'axes.labelsize': \"large\",\n",
        "    'xtick.labelsize': 'x-large',\n",
        "    'legend.fontsize': 20,\n",
        "    'figure.dpi': 150,\n",
        "    'figure.figsize': [25, 7]\n",
        "}\n",
        "plot.rcParams.update(params)"
      ],
      "execution_count": null,
      "outputs": []
    },
    {
      "cell_type": "markdown",
      "metadata": {
        "id": "UfHo34s0sd2U"
      },
      "source": [
        "Para esse problema, o Kaggle oferece dois datasets: um de treinamento e um de teste.\n",
        "Nós vamos usar o de treinamento para construir nosso modelo preditivo e o de teste para avalia-lo e gerar um arquivo de saída para submeter para o sistema de avaliação do Kaggle.\n",
        "\n",
        "Vamos começar carregando a base de treinamento.\n",
        "Primeiro faça o download da base de treinamento no <a href=https://www.kaggle.com/c/titanic/data> Kaggle </a>.\n",
        "\n",
        "Agora vamos subir o arquivo de treinamento para o notebook.\n",
        "\n",
        "Existem <a href=https://towardsdatascience.com/3-ways-to-load-csv-files-into-colab-7c14fcbdcb92>3 boas formas de fazer isso </a>:\n",
        "- Abrir direto do github (arquivos até 25MB)\n",
        "- Fazer upload da sua máquina.\n",
        "- Acessar um arquivo do seu google drive.\n",
        "\n",
        "Vamos optar pelo upload.\n"
      ]
    },
    {
      "cell_type": "code",
      "metadata": {
        "id": "FIDxvKLG3xMa",
        "colab": {
          "resources": {
            "http://localhost:8080/nbextensions/google.colab/files.js": {
              "data": "Ly8gQ29weXJpZ2h0IDIwMTcgR29vZ2xlIExMQwovLwovLyBMaWNlbnNlZCB1bmRlciB0aGUgQXBhY2hlIExpY2Vuc2UsIFZlcnNpb24gMi4wICh0aGUgIkxpY2Vuc2UiKTsKLy8geW91IG1heSBub3QgdXNlIHRoaXMgZmlsZSBleGNlcHQgaW4gY29tcGxpYW5jZSB3aXRoIHRoZSBMaWNlbnNlLgovLyBZb3UgbWF5IG9idGFpbiBhIGNvcHkgb2YgdGhlIExpY2Vuc2UgYXQKLy8KLy8gICAgICBodHRwOi8vd3d3LmFwYWNoZS5vcmcvbGljZW5zZXMvTElDRU5TRS0yLjAKLy8KLy8gVW5sZXNzIHJlcXVpcmVkIGJ5IGFwcGxpY2FibGUgbGF3IG9yIGFncmVlZCB0byBpbiB3cml0aW5nLCBzb2Z0d2FyZQovLyBkaXN0cmlidXRlZCB1bmRlciB0aGUgTGljZW5zZSBpcyBkaXN0cmlidXRlZCBvbiBhbiAiQVMgSVMiIEJBU0lTLAovLyBXSVRIT1VUIFdBUlJBTlRJRVMgT1IgQ09ORElUSU9OUyBPRiBBTlkgS0lORCwgZWl0aGVyIGV4cHJlc3Mgb3IgaW1wbGllZC4KLy8gU2VlIHRoZSBMaWNlbnNlIGZvciB0aGUgc3BlY2lmaWMgbGFuZ3VhZ2UgZ292ZXJuaW5nIHBlcm1pc3Npb25zIGFuZAovLyBsaW1pdGF0aW9ucyB1bmRlciB0aGUgTGljZW5zZS4KCi8qKgogKiBAZmlsZW92ZXJ2aWV3IEhlbHBlcnMgZm9yIGdvb2dsZS5jb2xhYiBQeXRob24gbW9kdWxlLgogKi8KKGZ1bmN0aW9uKHNjb3BlKSB7CmZ1bmN0aW9uIHNwYW4odGV4dCwgc3R5bGVBdHRyaWJ1dGVzID0ge30pIHsKICBjb25zdCBlbGVtZW50ID0gZG9jdW1lbnQuY3JlYXRlRWxlbWVudCgnc3BhbicpOwogIGVsZW1lbnQudGV4dENvbnRlbnQgPSB0ZXh0OwogIGZvciAoY29uc3Qga2V5IG9mIE9iamVjdC5rZXlzKHN0eWxlQXR0cmlidXRlcykpIHsKICAgIGVsZW1lbnQuc3R5bGVba2V5XSA9IHN0eWxlQXR0cmlidXRlc1trZXldOwogIH0KICByZXR1cm4gZWxlbWVudDsKfQoKLy8gTWF4IG51bWJlciBvZiBieXRlcyB3aGljaCB3aWxsIGJlIHVwbG9hZGVkIGF0IGEgdGltZS4KY29uc3QgTUFYX1BBWUxPQURfU0laRSA9IDEwMCAqIDEwMjQ7CgpmdW5jdGlvbiBfdXBsb2FkRmlsZXMoaW5wdXRJZCwgb3V0cHV0SWQpIHsKICBjb25zdCBzdGVwcyA9IHVwbG9hZEZpbGVzU3RlcChpbnB1dElkLCBvdXRwdXRJZCk7CiAgY29uc3Qgb3V0cHV0RWxlbWVudCA9IGRvY3VtZW50LmdldEVsZW1lbnRCeUlkKG91dHB1dElkKTsKICAvLyBDYWNoZSBzdGVwcyBvbiB0aGUgb3V0cHV0RWxlbWVudCB0byBtYWtlIGl0IGF2YWlsYWJsZSBmb3IgdGhlIG5leHQgY2FsbAogIC8vIHRvIHVwbG9hZEZpbGVzQ29udGludWUgZnJvbSBQeXRob24uCiAgb3V0cHV0RWxlbWVudC5zdGVwcyA9IHN0ZXBzOwoKICByZXR1cm4gX3VwbG9hZEZpbGVzQ29udGludWUob3V0cHV0SWQpOwp9CgovLyBUaGlzIGlzIHJvdWdobHkgYW4gYXN5bmMgZ2VuZXJhdG9yIChub3Qgc3VwcG9ydGVkIGluIHRoZSBicm93c2VyIHlldCksCi8vIHdoZXJlIHRoZXJlIGFyZSBtdWx0aXBsZSBhc3luY2hyb25vdXMgc3RlcHMgYW5kIHRoZSBQeXRob24gc2lkZSBpcyBnb2luZwovLyB0byBwb2xsIGZvciBjb21wbGV0aW9uIG9mIGVhY2ggc3RlcC4KLy8gVGhpcyB1c2VzIGEgUHJvbWlzZSB0byBibG9jayB0aGUgcHl0aG9uIHNpZGUgb24gY29tcGxldGlvbiBvZiBlYWNoIHN0ZXAsCi8vIHRoZW4gcGFzc2VzIHRoZSByZXN1bHQgb2YgdGhlIHByZXZpb3VzIHN0ZXAgYXMgdGhlIGlucHV0IHRvIHRoZSBuZXh0IHN0ZXAuCmZ1bmN0aW9uIF91cGxvYWRGaWxlc0NvbnRpbnVlKG91dHB1dElkKSB7CiAgY29uc3Qgb3V0cHV0RWxlbWVudCA9IGRvY3VtZW50LmdldEVsZW1lbnRCeUlkKG91dHB1dElkKTsKICBjb25zdCBzdGVwcyA9IG91dHB1dEVsZW1lbnQuc3RlcHM7CgogIGNvbnN0IG5leHQgPSBzdGVwcy5uZXh0KG91dHB1dEVsZW1lbnQubGFzdFByb21pc2VWYWx1ZSk7CiAgcmV0dXJuIFByb21pc2UucmVzb2x2ZShuZXh0LnZhbHVlLnByb21pc2UpLnRoZW4oKHZhbHVlKSA9PiB7CiAgICAvLyBDYWNoZSB0aGUgbGFzdCBwcm9taXNlIHZhbHVlIHRvIG1ha2UgaXQgYXZhaWxhYmxlIHRvIHRoZSBuZXh0CiAgICAvLyBzdGVwIG9mIHRoZSBnZW5lcmF0b3IuCiAgICBvdXRwdXRFbGVtZW50Lmxhc3RQcm9taXNlVmFsdWUgPSB2YWx1ZTsKICAgIHJldHVybiBuZXh0LnZhbHVlLnJlc3BvbnNlOwogIH0pOwp9CgovKioKICogR2VuZXJhdG9yIGZ1bmN0aW9uIHdoaWNoIGlzIGNhbGxlZCBiZXR3ZWVuIGVhY2ggYXN5bmMgc3RlcCBvZiB0aGUgdXBsb2FkCiAqIHByb2Nlc3MuCiAqIEBwYXJhbSB7c3RyaW5nfSBpbnB1dElkIEVsZW1lbnQgSUQgb2YgdGhlIGlucHV0IGZpbGUgcGlja2VyIGVsZW1lbnQuCiAqIEBwYXJhbSB7c3RyaW5nfSBvdXRwdXRJZCBFbGVtZW50IElEIG9mIHRoZSBvdXRwdXQgZGlzcGxheS4KICogQHJldHVybiB7IUl0ZXJhYmxlPCFPYmplY3Q+fSBJdGVyYWJsZSBvZiBuZXh0IHN0ZXBzLgogKi8KZnVuY3Rpb24qIHVwbG9hZEZpbGVzU3RlcChpbnB1dElkLCBvdXRwdXRJZCkgewogIGNvbnN0IGlucHV0RWxlbWVudCA9IGRvY3VtZW50LmdldEVsZW1lbnRCeUlkKGlucHV0SWQpOwogIGlucHV0RWxlbWVudC5kaXNhYmxlZCA9IGZhbHNlOwoKICBjb25zdCBvdXRwdXRFbGVtZW50ID0gZG9jdW1lbnQuZ2V0RWxlbWVudEJ5SWQob3V0cHV0SWQpOwogIG91dHB1dEVsZW1lbnQuaW5uZXJIVE1MID0gJyc7CgogIGNvbnN0IHBpY2tlZFByb21pc2UgPSBuZXcgUHJvbWlzZSgocmVzb2x2ZSkgPT4gewogICAgaW5wdXRFbGVtZW50LmFkZEV2ZW50TGlzdGVuZXIoJ2NoYW5nZScsIChlKSA9PiB7CiAgICAgIHJlc29sdmUoZS50YXJnZXQuZmlsZXMpOwogICAgfSk7CiAgfSk7CgogIGNvbnN0IGNhbmNlbCA9IGRvY3VtZW50LmNyZWF0ZUVsZW1lbnQoJ2J1dHRvbicpOwogIGlucHV0RWxlbWVudC5wYXJlbnRFbGVtZW50LmFwcGVuZENoaWxkKGNhbmNlbCk7CiAgY2FuY2VsLnRleHRDb250ZW50ID0gJ0NhbmNlbCB1cGxvYWQnOwogIGNvbnN0IGNhbmNlbFByb21pc2UgPSBuZXcgUHJvbWlzZSgocmVzb2x2ZSkgPT4gewogICAgY2FuY2VsLm9uY2xpY2sgPSAoKSA9PiB7CiAgICAgIHJlc29sdmUobnVsbCk7CiAgICB9OwogIH0pOwoKICAvLyBXYWl0IGZvciB0aGUgdXNlciB0byBwaWNrIHRoZSBmaWxlcy4KICBjb25zdCBmaWxlcyA9IHlpZWxkIHsKICAgIHByb21pc2U6IFByb21pc2UucmFjZShbcGlja2VkUHJvbWlzZSwgY2FuY2VsUHJvbWlzZV0pLAogICAgcmVzcG9uc2U6IHsKICAgICAgYWN0aW9uOiAnc3RhcnRpbmcnLAogICAgfQogIH07CgogIGNhbmNlbC5yZW1vdmUoKTsKCiAgLy8gRGlzYWJsZSB0aGUgaW5wdXQgZWxlbWVudCBzaW5jZSBmdXJ0aGVyIHBpY2tzIGFyZSBub3QgYWxsb3dlZC4KICBpbnB1dEVsZW1lbnQuZGlzYWJsZWQgPSB0cnVlOwoKICBpZiAoIWZpbGVzKSB7CiAgICByZXR1cm4gewogICAgICByZXNwb25zZTogewogICAgICAgIGFjdGlvbjogJ2NvbXBsZXRlJywKICAgICAgfQogICAgfTsKICB9CgogIGZvciAoY29uc3QgZmlsZSBvZiBmaWxlcykgewogICAgY29uc3QgbGkgPSBkb2N1bWVudC5jcmVhdGVFbGVtZW50KCdsaScpOwogICAgbGkuYXBwZW5kKHNwYW4oZmlsZS5uYW1lLCB7Zm9udFdlaWdodDogJ2JvbGQnfSkpOwogICAgbGkuYXBwZW5kKHNwYW4oCiAgICAgICAgYCgke2ZpbGUudHlwZSB8fCAnbi9hJ30pIC0gJHtmaWxlLnNpemV9IGJ5dGVzLCBgICsKICAgICAgICBgbGFzdCBtb2RpZmllZDogJHsKICAgICAgICAgICAgZmlsZS5sYXN0TW9kaWZpZWREYXRlID8gZmlsZS5sYXN0TW9kaWZpZWREYXRlLnRvTG9jYWxlRGF0ZVN0cmluZygpIDoKICAgICAgICAgICAgICAgICAgICAgICAgICAgICAgICAgICAgJ24vYSd9IC0gYCkpOwogICAgY29uc3QgcGVyY2VudCA9IHNwYW4oJzAlIGRvbmUnKTsKICAgIGxpLmFwcGVuZENoaWxkKHBlcmNlbnQpOwoKICAgIG91dHB1dEVsZW1lbnQuYXBwZW5kQ2hpbGQobGkpOwoKICAgIGNvbnN0IGZpbGVEYXRhUHJvbWlzZSA9IG5ldyBQcm9taXNlKChyZXNvbHZlKSA9PiB7CiAgICAgIGNvbnN0IHJlYWRlciA9IG5ldyBGaWxlUmVhZGVyKCk7CiAgICAgIHJlYWRlci5vbmxvYWQgPSAoZSkgPT4gewogICAgICAgIHJlc29sdmUoZS50YXJnZXQucmVzdWx0KTsKICAgICAgfTsKICAgICAgcmVhZGVyLnJlYWRBc0FycmF5QnVmZmVyKGZpbGUpOwogICAgfSk7CiAgICAvLyBXYWl0IGZvciB0aGUgZGF0YSB0byBiZSByZWFkeS4KICAgIGxldCBmaWxlRGF0YSA9IHlpZWxkIHsKICAgICAgcHJvbWlzZTogZmlsZURhdGFQcm9taXNlLAogICAgICByZXNwb25zZTogewogICAgICAgIGFjdGlvbjogJ2NvbnRpbnVlJywKICAgICAgfQogICAgfTsKCiAgICAvLyBVc2UgYSBjaHVua2VkIHNlbmRpbmcgdG8gYXZvaWQgbWVzc2FnZSBzaXplIGxpbWl0cy4gU2VlIGIvNjIxMTU2NjAuCiAgICBsZXQgcG9zaXRpb24gPSAwOwogICAgd2hpbGUgKHBvc2l0aW9uIDwgZmlsZURhdGEuYnl0ZUxlbmd0aCkgewogICAgICBjb25zdCBsZW5ndGggPSBNYXRoLm1pbihmaWxlRGF0YS5ieXRlTGVuZ3RoIC0gcG9zaXRpb24sIE1BWF9QQVlMT0FEX1NJWkUpOwogICAgICBjb25zdCBjaHVuayA9IG5ldyBVaW50OEFycmF5KGZpbGVEYXRhLCBwb3NpdGlvbiwgbGVuZ3RoKTsKICAgICAgcG9zaXRpb24gKz0gbGVuZ3RoOwoKICAgICAgY29uc3QgYmFzZTY0ID0gYnRvYShTdHJpbmcuZnJvbUNoYXJDb2RlLmFwcGx5KG51bGwsIGNodW5rKSk7CiAgICAgIHlpZWxkIHsKICAgICAgICByZXNwb25zZTogewogICAgICAgICAgYWN0aW9uOiAnYXBwZW5kJywKICAgICAgICAgIGZpbGU6IGZpbGUubmFtZSwKICAgICAgICAgIGRhdGE6IGJhc2U2NCwKICAgICAgICB9LAogICAgICB9OwogICAgICBwZXJjZW50LnRleHRDb250ZW50ID0KICAgICAgICAgIGAke01hdGgucm91bmQoKHBvc2l0aW9uIC8gZmlsZURhdGEuYnl0ZUxlbmd0aCkgKiAxMDApfSUgZG9uZWA7CiAgICB9CiAgfQoKICAvLyBBbGwgZG9uZS4KICB5aWVsZCB7CiAgICByZXNwb25zZTogewogICAgICBhY3Rpb246ICdjb21wbGV0ZScsCiAgICB9CiAgfTsKfQoKc2NvcGUuZ29vZ2xlID0gc2NvcGUuZ29vZ2xlIHx8IHt9OwpzY29wZS5nb29nbGUuY29sYWIgPSBzY29wZS5nb29nbGUuY29sYWIgfHwge307CnNjb3BlLmdvb2dsZS5jb2xhYi5fZmlsZXMgPSB7CiAgX3VwbG9hZEZpbGVzLAogIF91cGxvYWRGaWxlc0NvbnRpbnVlLAp9Owp9KShzZWxmKTsK",
              "ok": true,
              "headers": [
                [
                  "content-type",
                  "application/javascript"
                ]
              ],
              "status": 200,
              "status_text": ""
            }
          },
          "base_uri": "https://localhost:8080/",
          "height": 110
        },
        "outputId": "d36b63c2-64b1-41d7-dd9b-e7d341cb9619"
      },
      "source": [
        "from google.colab import files\n",
        "uploaded = files.upload()"
      ],
      "execution_count": null,
      "outputs": [
        {
          "output_type": "display_data",
          "data": {
            "text/html": [
              "\n",
              "     <input type=\"file\" id=\"files-b370c1cd-6d14-4c5d-a24a-74fbdef3a947\" name=\"files[]\" multiple disabled\n",
              "        style=\"border:none\" />\n",
              "     <output id=\"result-b370c1cd-6d14-4c5d-a24a-74fbdef3a947\">\n",
              "      Upload widget is only available when the cell has been executed in the\n",
              "      current browser session. Please rerun this cell to enable.\n",
              "      </output>\n",
              "      <script src=\"/nbextensions/google.colab/files.js\"></script> "
            ],
            "text/plain": [
              "<IPython.core.display.HTML object>"
            ]
          },
          "metadata": {
            "tags": []
          }
        },
        {
          "output_type": "stream",
          "text": [
            "Saving test.csv to test (1).csv\n",
            "Saving train.csv to train (1).csv\n"
          ],
          "name": "stdout"
        }
      ]
    },
    {
      "cell_type": "code",
      "metadata": {
        "id": "wL2d28U5sd2V"
      },
      "source": [
        "import io\n",
        "data = pd.read_csv(io.BytesIO(uploaded['train.csv']))\n"
      ],
      "execution_count": null,
      "outputs": []
    },
    {
      "cell_type": "code",
      "metadata": {
        "id": "KMIm4O7fsd2Z",
        "colab": {
          "base_uri": "https://localhost:8080/"
        },
        "outputId": "9ae8f68f-26da-4c82-ed4e-1b7577b2d91d"
      },
      "source": [
        "print(data.shape)"
      ],
      "execution_count": null,
      "outputs": [
        {
          "output_type": "stream",
          "text": [
            "(891, 12)\n"
          ],
          "name": "stdout"
        }
      ]
    },
    {
      "cell_type": "markdown",
      "metadata": {
        "id": "jTWHs1i5sd2e"
      },
      "source": [
        "# Se tudo deu certo, pode ver que temos:\n",
        "\n",
        "- 891 linhas\n",
        "- 12 colunas"
      ]
    },
    {
      "cell_type": "markdown",
      "metadata": {
        "id": "r0PMnxQYsd2f"
      },
      "source": [
        "O Pandas permite que você dê uma olhada nos dados ..."
      ]
    },
    {
      "cell_type": "code",
      "metadata": {
        "id": "_vCfjF2nsd2g",
        "colab": {
          "base_uri": "https://localhost:8080/",
          "height": 340
        },
        "outputId": "b46bfed2-f01e-4227-ce3f-aff0ff0c45ae"
      },
      "source": [
        "data.head()"
      ],
      "execution_count": null,
      "outputs": [
        {
          "output_type": "execute_result",
          "data": {
            "text/html": [
              "<div>\n",
              "<style scoped>\n",
              "    .dataframe tbody tr th:only-of-type {\n",
              "        vertical-align: middle;\n",
              "    }\n",
              "\n",
              "    .dataframe tbody tr th {\n",
              "        vertical-align: top;\n",
              "    }\n",
              "\n",
              "    .dataframe thead th {\n",
              "        text-align: right;\n",
              "    }\n",
              "</style>\n",
              "<table border=\"1\" class=\"dataframe\">\n",
              "  <thead>\n",
              "    <tr style=\"text-align: right;\">\n",
              "      <th></th>\n",
              "      <th>PassengerId</th>\n",
              "      <th>Survived</th>\n",
              "      <th>Pclass</th>\n",
              "      <th>Name</th>\n",
              "      <th>Sex</th>\n",
              "      <th>Age</th>\n",
              "      <th>SibSp</th>\n",
              "      <th>Parch</th>\n",
              "      <th>Ticket</th>\n",
              "      <th>Fare</th>\n",
              "      <th>Cabin</th>\n",
              "      <th>Embarked</th>\n",
              "    </tr>\n",
              "  </thead>\n",
              "  <tbody>\n",
              "    <tr>\n",
              "      <th>0</th>\n",
              "      <td>1</td>\n",
              "      <td>0</td>\n",
              "      <td>3</td>\n",
              "      <td>Braund, Mr. Owen Harris</td>\n",
              "      <td>male</td>\n",
              "      <td>22.0</td>\n",
              "      <td>1</td>\n",
              "      <td>0</td>\n",
              "      <td>A/5 21171</td>\n",
              "      <td>7.2500</td>\n",
              "      <td>NaN</td>\n",
              "      <td>S</td>\n",
              "    </tr>\n",
              "    <tr>\n",
              "      <th>1</th>\n",
              "      <td>2</td>\n",
              "      <td>1</td>\n",
              "      <td>1</td>\n",
              "      <td>Cumings, Mrs. John Bradley (Florence Briggs Th...</td>\n",
              "      <td>female</td>\n",
              "      <td>38.0</td>\n",
              "      <td>1</td>\n",
              "      <td>0</td>\n",
              "      <td>PC 17599</td>\n",
              "      <td>71.2833</td>\n",
              "      <td>C85</td>\n",
              "      <td>C</td>\n",
              "    </tr>\n",
              "    <tr>\n",
              "      <th>2</th>\n",
              "      <td>3</td>\n",
              "      <td>1</td>\n",
              "      <td>3</td>\n",
              "      <td>Heikkinen, Miss. Laina</td>\n",
              "      <td>female</td>\n",
              "      <td>26.0</td>\n",
              "      <td>0</td>\n",
              "      <td>0</td>\n",
              "      <td>STON/O2. 3101282</td>\n",
              "      <td>7.9250</td>\n",
              "      <td>NaN</td>\n",
              "      <td>S</td>\n",
              "    </tr>\n",
              "    <tr>\n",
              "      <th>3</th>\n",
              "      <td>4</td>\n",
              "      <td>1</td>\n",
              "      <td>1</td>\n",
              "      <td>Futrelle, Mrs. Jacques Heath (Lily May Peel)</td>\n",
              "      <td>female</td>\n",
              "      <td>35.0</td>\n",
              "      <td>1</td>\n",
              "      <td>0</td>\n",
              "      <td>113803</td>\n",
              "      <td>53.1000</td>\n",
              "      <td>C123</td>\n",
              "      <td>S</td>\n",
              "    </tr>\n",
              "    <tr>\n",
              "      <th>4</th>\n",
              "      <td>5</td>\n",
              "      <td>0</td>\n",
              "      <td>3</td>\n",
              "      <td>Allen, Mr. William Henry</td>\n",
              "      <td>male</td>\n",
              "      <td>35.0</td>\n",
              "      <td>0</td>\n",
              "      <td>0</td>\n",
              "      <td>373450</td>\n",
              "      <td>8.0500</td>\n",
              "      <td>NaN</td>\n",
              "      <td>S</td>\n",
              "    </tr>\n",
              "  </tbody>\n",
              "</table>\n",
              "</div>"
            ],
            "text/plain": [
              "   PassengerId  Survived  Pclass  \\\n",
              "0            1         0       3   \n",
              "1            2         1       1   \n",
              "2            3         1       3   \n",
              "3            4         1       1   \n",
              "4            5         0       3   \n",
              "\n",
              "                                                Name     Sex   Age  SibSp  \\\n",
              "0                            Braund, Mr. Owen Harris    male  22.0      1   \n",
              "1  Cumings, Mrs. John Bradley (Florence Briggs Th...  female  38.0      1   \n",
              "2                             Heikkinen, Miss. Laina  female  26.0      0   \n",
              "3       Futrelle, Mrs. Jacques Heath (Lily May Peel)  female  35.0      1   \n",
              "4                           Allen, Mr. William Henry    male  35.0      0   \n",
              "\n",
              "   Parch            Ticket     Fare Cabin Embarked  \n",
              "0      0         A/5 21171   7.2500   NaN        S  \n",
              "1      0          PC 17599  71.2833   C85        C  \n",
              "2      0  STON/O2. 3101282   7.9250   NaN        S  \n",
              "3      0            113803  53.1000  C123        S  \n",
              "4      0            373450   8.0500   NaN        S  "
            ]
          },
          "metadata": {
            "tags": []
          },
          "execution_count": 10
        }
      ]
    },
    {
      "cell_type": "markdown",
      "metadata": {
        "id": "5rLIH0ySsd2k"
      },
      "source": [
        "A coluna Survived é a variável alvo, aquela que queremos prever. Se Survided=1 o passageiro sobreviveu, caso contrário ele morreu.\n",
        "\n",
        "As outras variáveis descrevem os passageiros, são elas que chamamos de **features**.\n",
        "\n",
        "- PassengerId: Id de cada passageiro no barco.\n",
        "- Pclass: a classe do passageiro. Existem 3 valores possíveis: 1,2 e 3. (Primeira, segunda e terceira classe)\n",
        "- Name = nome\n",
        "- Sex = sexo\n",
        "- Age = idade\n",
        "- SibSp: quantidade de irmãos e conjuge (Siblings e spouses) viajando com o passageiro.\n",
        "- Parch: quantidade de pais e filhos viajando com o passageiro\n",
        "- The ticket number = numero do bilhete\n",
        "- The ticket Fare = tarifa do bilhete\n",
        "- The cabin number = número da cabine\n",
        "- The embarkation= O Titanic tinha três portos possíveis de embarque: C = Cherbourg, Q = Queenstown, S = Southampton"
      ]
    },
    {
      "cell_type": "markdown",
      "metadata": {
        "id": "3lVGm0Qgsd2l"
      },
      "source": [
        "Com o Pandas é possível ter uma visão geral através de dados estísticos simples da features numéricas.\n",
        "Basta usar o método describe.\n"
      ]
    },
    {
      "cell_type": "code",
      "metadata": {
        "id": "7FFqn1x-sd2m",
        "colab": {
          "base_uri": "https://localhost:8080/",
          "height": 297
        },
        "outputId": "1711e23c-0ae9-4837-bad6-c79e18dce663"
      },
      "source": [
        "data.describe()"
      ],
      "execution_count": null,
      "outputs": [
        {
          "output_type": "execute_result",
          "data": {
            "text/html": [
              "<div>\n",
              "<style scoped>\n",
              "    .dataframe tbody tr th:only-of-type {\n",
              "        vertical-align: middle;\n",
              "    }\n",
              "\n",
              "    .dataframe tbody tr th {\n",
              "        vertical-align: top;\n",
              "    }\n",
              "\n",
              "    .dataframe thead th {\n",
              "        text-align: right;\n",
              "    }\n",
              "</style>\n",
              "<table border=\"1\" class=\"dataframe\">\n",
              "  <thead>\n",
              "    <tr style=\"text-align: right;\">\n",
              "      <th></th>\n",
              "      <th>PassengerId</th>\n",
              "      <th>Survived</th>\n",
              "      <th>Pclass</th>\n",
              "      <th>Age</th>\n",
              "      <th>SibSp</th>\n",
              "      <th>Parch</th>\n",
              "      <th>Fare</th>\n",
              "    </tr>\n",
              "  </thead>\n",
              "  <tbody>\n",
              "    <tr>\n",
              "      <th>count</th>\n",
              "      <td>891.000000</td>\n",
              "      <td>891.000000</td>\n",
              "      <td>891.000000</td>\n",
              "      <td>714.000000</td>\n",
              "      <td>891.000000</td>\n",
              "      <td>891.000000</td>\n",
              "      <td>891.000000</td>\n",
              "    </tr>\n",
              "    <tr>\n",
              "      <th>mean</th>\n",
              "      <td>446.000000</td>\n",
              "      <td>0.383838</td>\n",
              "      <td>2.308642</td>\n",
              "      <td>29.699118</td>\n",
              "      <td>0.523008</td>\n",
              "      <td>0.381594</td>\n",
              "      <td>32.204208</td>\n",
              "    </tr>\n",
              "    <tr>\n",
              "      <th>std</th>\n",
              "      <td>257.353842</td>\n",
              "      <td>0.486592</td>\n",
              "      <td>0.836071</td>\n",
              "      <td>14.526497</td>\n",
              "      <td>1.102743</td>\n",
              "      <td>0.806057</td>\n",
              "      <td>49.693429</td>\n",
              "    </tr>\n",
              "    <tr>\n",
              "      <th>min</th>\n",
              "      <td>1.000000</td>\n",
              "      <td>0.000000</td>\n",
              "      <td>1.000000</td>\n",
              "      <td>0.420000</td>\n",
              "      <td>0.000000</td>\n",
              "      <td>0.000000</td>\n",
              "      <td>0.000000</td>\n",
              "    </tr>\n",
              "    <tr>\n",
              "      <th>25%</th>\n",
              "      <td>223.500000</td>\n",
              "      <td>0.000000</td>\n",
              "      <td>2.000000</td>\n",
              "      <td>20.125000</td>\n",
              "      <td>0.000000</td>\n",
              "      <td>0.000000</td>\n",
              "      <td>7.910400</td>\n",
              "    </tr>\n",
              "    <tr>\n",
              "      <th>50%</th>\n",
              "      <td>446.000000</td>\n",
              "      <td>0.000000</td>\n",
              "      <td>3.000000</td>\n",
              "      <td>28.000000</td>\n",
              "      <td>0.000000</td>\n",
              "      <td>0.000000</td>\n",
              "      <td>14.454200</td>\n",
              "    </tr>\n",
              "    <tr>\n",
              "      <th>75%</th>\n",
              "      <td>668.500000</td>\n",
              "      <td>1.000000</td>\n",
              "      <td>3.000000</td>\n",
              "      <td>38.000000</td>\n",
              "      <td>1.000000</td>\n",
              "      <td>0.000000</td>\n",
              "      <td>31.000000</td>\n",
              "    </tr>\n",
              "    <tr>\n",
              "      <th>max</th>\n",
              "      <td>891.000000</td>\n",
              "      <td>1.000000</td>\n",
              "      <td>3.000000</td>\n",
              "      <td>80.000000</td>\n",
              "      <td>8.000000</td>\n",
              "      <td>6.000000</td>\n",
              "      <td>512.329200</td>\n",
              "    </tr>\n",
              "  </tbody>\n",
              "</table>\n",
              "</div>"
            ],
            "text/plain": [
              "       PassengerId    Survived      Pclass         Age       SibSp  \\\n",
              "count   891.000000  891.000000  891.000000  714.000000  891.000000   \n",
              "mean    446.000000    0.383838    2.308642   29.699118    0.523008   \n",
              "std     257.353842    0.486592    0.836071   14.526497    1.102743   \n",
              "min       1.000000    0.000000    1.000000    0.420000    0.000000   \n",
              "25%     223.500000    0.000000    2.000000   20.125000    0.000000   \n",
              "50%     446.000000    0.000000    3.000000   28.000000    0.000000   \n",
              "75%     668.500000    1.000000    3.000000   38.000000    1.000000   \n",
              "max     891.000000    1.000000    3.000000   80.000000    8.000000   \n",
              "\n",
              "            Parch        Fare  \n",
              "count  891.000000  891.000000  \n",
              "mean     0.381594   32.204208  \n",
              "std      0.806057   49.693429  \n",
              "min      0.000000    0.000000  \n",
              "25%      0.000000    7.910400  \n",
              "50%      0.000000   14.454200  \n",
              "75%      0.000000   31.000000  \n",
              "max      6.000000  512.329200  "
            ]
          },
          "metadata": {
            "tags": []
          },
          "execution_count": 11
        }
      ]
    },
    {
      "cell_type": "markdown",
      "metadata": {
        "id": "dylEq6zIsd2p"
      },
      "source": [
        "Repare a variável \"Age\", ela demonstra que 177 linhas estão faltando valores.\n",
        "Uma solução é preencher os valores nulos com a mediana das idades.\n",
        "Nós podemos também preencher com a média das idades, no entanto a mediana é mais robusta aos outliers.\n",
        "\n",
        "*Lembrando*: A média é a média aritmética de um conjunto de números. A mediana é um valor numérico que separa a metade superior de um conjunto da metade inferior."
      ]
    },
    {
      "cell_type": "code",
      "metadata": {
        "id": "z77Kq2zBsd2q"
      },
      "source": [
        "data['Age'] = data['Age'].fillna(data['Age'].median())"
      ],
      "execution_count": null,
      "outputs": []
    },
    {
      "cell_type": "markdown",
      "metadata": {
        "id": "Vwyy47pysd2v"
      },
      "source": [
        "Vamos verificar o resultado."
      ]
    },
    {
      "cell_type": "code",
      "metadata": {
        "id": "u_FVNGp5sd2w",
        "colab": {
          "base_uri": "https://localhost:8080/",
          "height": 297
        },
        "outputId": "a7d8cf54-1a65-48f8-ed37-02970c17da75"
      },
      "source": [
        "data.describe()"
      ],
      "execution_count": null,
      "outputs": [
        {
          "output_type": "execute_result",
          "data": {
            "text/html": [
              "<div>\n",
              "<style scoped>\n",
              "    .dataframe tbody tr th:only-of-type {\n",
              "        vertical-align: middle;\n",
              "    }\n",
              "\n",
              "    .dataframe tbody tr th {\n",
              "        vertical-align: top;\n",
              "    }\n",
              "\n",
              "    .dataframe thead th {\n",
              "        text-align: right;\n",
              "    }\n",
              "</style>\n",
              "<table border=\"1\" class=\"dataframe\">\n",
              "  <thead>\n",
              "    <tr style=\"text-align: right;\">\n",
              "      <th></th>\n",
              "      <th>PassengerId</th>\n",
              "      <th>Survived</th>\n",
              "      <th>Pclass</th>\n",
              "      <th>Age</th>\n",
              "      <th>SibSp</th>\n",
              "      <th>Parch</th>\n",
              "      <th>Fare</th>\n",
              "    </tr>\n",
              "  </thead>\n",
              "  <tbody>\n",
              "    <tr>\n",
              "      <th>count</th>\n",
              "      <td>891.000000</td>\n",
              "      <td>891.000000</td>\n",
              "      <td>891.000000</td>\n",
              "      <td>891.000000</td>\n",
              "      <td>891.000000</td>\n",
              "      <td>891.000000</td>\n",
              "      <td>891.000000</td>\n",
              "    </tr>\n",
              "    <tr>\n",
              "      <th>mean</th>\n",
              "      <td>446.000000</td>\n",
              "      <td>0.383838</td>\n",
              "      <td>2.308642</td>\n",
              "      <td>29.361582</td>\n",
              "      <td>0.523008</td>\n",
              "      <td>0.381594</td>\n",
              "      <td>32.204208</td>\n",
              "    </tr>\n",
              "    <tr>\n",
              "      <th>std</th>\n",
              "      <td>257.353842</td>\n",
              "      <td>0.486592</td>\n",
              "      <td>0.836071</td>\n",
              "      <td>13.019697</td>\n",
              "      <td>1.102743</td>\n",
              "      <td>0.806057</td>\n",
              "      <td>49.693429</td>\n",
              "    </tr>\n",
              "    <tr>\n",
              "      <th>min</th>\n",
              "      <td>1.000000</td>\n",
              "      <td>0.000000</td>\n",
              "      <td>1.000000</td>\n",
              "      <td>0.420000</td>\n",
              "      <td>0.000000</td>\n",
              "      <td>0.000000</td>\n",
              "      <td>0.000000</td>\n",
              "    </tr>\n",
              "    <tr>\n",
              "      <th>25%</th>\n",
              "      <td>223.500000</td>\n",
              "      <td>0.000000</td>\n",
              "      <td>2.000000</td>\n",
              "      <td>22.000000</td>\n",
              "      <td>0.000000</td>\n",
              "      <td>0.000000</td>\n",
              "      <td>7.910400</td>\n",
              "    </tr>\n",
              "    <tr>\n",
              "      <th>50%</th>\n",
              "      <td>446.000000</td>\n",
              "      <td>0.000000</td>\n",
              "      <td>3.000000</td>\n",
              "      <td>28.000000</td>\n",
              "      <td>0.000000</td>\n",
              "      <td>0.000000</td>\n",
              "      <td>14.454200</td>\n",
              "    </tr>\n",
              "    <tr>\n",
              "      <th>75%</th>\n",
              "      <td>668.500000</td>\n",
              "      <td>1.000000</td>\n",
              "      <td>3.000000</td>\n",
              "      <td>35.000000</td>\n",
              "      <td>1.000000</td>\n",
              "      <td>0.000000</td>\n",
              "      <td>31.000000</td>\n",
              "    </tr>\n",
              "    <tr>\n",
              "      <th>max</th>\n",
              "      <td>891.000000</td>\n",
              "      <td>1.000000</td>\n",
              "      <td>3.000000</td>\n",
              "      <td>80.000000</td>\n",
              "      <td>8.000000</td>\n",
              "      <td>6.000000</td>\n",
              "      <td>512.329200</td>\n",
              "    </tr>\n",
              "  </tbody>\n",
              "</table>\n",
              "</div>"
            ],
            "text/plain": [
              "       PassengerId    Survived      Pclass         Age       SibSp  \\\n",
              "count   891.000000  891.000000  891.000000  891.000000  891.000000   \n",
              "mean    446.000000    0.383838    2.308642   29.361582    0.523008   \n",
              "std     257.353842    0.486592    0.836071   13.019697    1.102743   \n",
              "min       1.000000    0.000000    1.000000    0.420000    0.000000   \n",
              "25%     223.500000    0.000000    2.000000   22.000000    0.000000   \n",
              "50%     446.000000    0.000000    3.000000   28.000000    0.000000   \n",
              "75%     668.500000    1.000000    3.000000   35.000000    1.000000   \n",
              "max     891.000000    1.000000    3.000000   80.000000    8.000000   \n",
              "\n",
              "            Parch        Fare  \n",
              "count  891.000000  891.000000  \n",
              "mean     0.381594   32.204208  \n",
              "std      0.806057   49.693429  \n",
              "min      0.000000    0.000000  \n",
              "25%      0.000000    7.910400  \n",
              "50%      0.000000   14.454200  \n",
              "75%      0.000000   31.000000  \n",
              "max      6.000000  512.329200  "
            ]
          },
          "metadata": {
            "tags": []
          },
          "execution_count": 13
        }
      ]
    },
    {
      "cell_type": "markdown",
      "metadata": {
        "id": "vUKcvKNMsd2z"
      },
      "source": [
        "Perfeito.\n",
        "\n",
        "Agora vamos criar alguns gráficos.\n",
        "\n",
        "Vamos visualizar a sobrevivência em relação ao gênero.\n",
        "Para facilitar vamos criar a coluna \"Died\" que representa aqueles que morreram."
      ]
    },
    {
      "cell_type": "code",
      "metadata": {
        "id": "A9KwBjCnsd20"
      },
      "source": [
        "data['Died'] = 1 - data['Survived']"
      ],
      "execution_count": null,
      "outputs": []
    },
    {
      "cell_type": "markdown",
      "metadata": {
        "id": "gMREHmSiAx-s"
      },
      "source": [
        "Agora vamos criar um gráfico que mostra os dados agrupados por sexo e empilha as barras, de forma que mulheres e homens forme uma barra e parte da barra seja os que sobreviveram e parte seja os que morreram.\n",
        "Para melhorar a visualização vamos colorir os que morreram de vermelho e os que sobreviveram de verde."
      ]
    },
    {
      "cell_type": "code",
      "metadata": {
        "id": "Cw-8maMisd24",
        "colab": {
          "base_uri": "https://localhost:8080/",
          "height": 313
        },
        "outputId": "82e5d509-d625-4174-e760-a6006664c0b1"
      },
      "source": [
        "data.groupby('Sex').agg('sum')[['Survived', 'Died']].plot(kind='bar', figsize=(25, 7),\n",
        "                                                          stacked=True, color=['g', 'r']);"
      ],
      "execution_count": null,
      "outputs": [
        {
          "output_type": "display_data",
          "data": {
            "image/png": "[encoded data removed]",
            "text/plain": [
              "<Figure size 3750x1050 with 1 Axes>"
            ]
          },
          "metadata": {
            "tags": [],
            "needs_background": "light"
          }
        }
      ]
    },
    {
      "cell_type": "markdown",
      "metadata": {
        "id": "uMlOcCe4sd28"
      },
      "source": [
        "Parece que passageiros homens tem mais chance de sucumbir.\n",
        "\n",
        "Agora, vamos plotar o mesmo gráfico utilizando a razão entre sobreviventes e mortos para facilitar a visualização."
      ]
    },
    {
      "cell_type": "code",
      "metadata": {
        "id": "otzwtcZgsd28",
        "colab": {
          "base_uri": "https://localhost:8080/",
          "height": 313
        },
        "outputId": "01581601-a6cf-4ac7-cd23-b8089571e301"
      },
      "source": [
        "data.groupby('Sex').agg('mean')[['Survived', 'Died']].plot(kind='bar', figsize=(25, 7), \n",
        "                                                           stacked=True, color=['g', 'r']);"
      ],
      "execution_count": null,
      "outputs": [
        {
          "output_type": "display_data",
          "data": {
            "image/png": "[encoded data removed]",
            "text/plain": [
              "<Figure size 3750x1050 with 1 Axes>"
            ]
          },
          "metadata": {
            "tags": [],
            "needs_background": "light"
          }
        }
      ]
    },
    {
      "cell_type": "markdown",
      "metadata": {
        "id": "92hRdoxosd3D"
      },
      "source": [
        "Bingo !\n",
        "Parece que a variável sexo é uma feature discriminante.\n",
        "Mulheres tem mais chance de sobreviver."
      ]
    },
    {
      "cell_type": "markdown",
      "metadata": {
        "id": "bzbsEipysd3E"
      },
      "source": [
        "Agora vamos tentar achar uma correlação entre sobrevivência e idade.\n",
        "\n",
        "Nesse caso, utilizar um gráfico de violino pode ser mais interessante."
      ]
    },
    {
      "cell_type": "code",
      "metadata": {
        "id": "G8bnMGpZsd3F",
        "colab": {
          "base_uri": "https://localhost:8080/",
          "height": 288
        },
        "outputId": "b21af068-212a-4589-9b67-e28af4e29c8a"
      },
      "source": [
        "fig = plt.figure(figsize=(25, 7))\n",
        "sns.violinplot(x='Sex', y='Age', \n",
        "               hue='Survived', data=data, \n",
        "               split=True,\n",
        "               palette={0: \"r\", 1: \"g\"}\n",
        "              );"
      ],
      "execution_count": null,
      "outputs": [
        {
          "output_type": "display_data",
          "data": {
            "image/png": "[encoded data removed]",
            "text/plain": [
              "<Figure size 3750x1050 with 1 Axes>"
            ]
          },
          "metadata": {
            "tags": [],
            "needs_background": "light"
          }
        }
      ]
    },
    {
      "cell_type": "markdown",
      "metadata": {
        "id": "c6VpqHHksd3L"
      },
      "source": [
        "Analise os gráfico acima e perceba:\n",
        "- Mulheres sobrevivem mais que homens, como percebido pelo histograma verde feminino maior.\n",
        "\n",
        "\n",
        "Agora vamos analisar a idade:\n",
        "- Para passageiros homens:\n",
        "    - Homens jovens tendem a sobreviver.\n",
        "    - Um grande número de passageiros entre 20 e 40 anos morreram.\n",
        "    \n",
        "    \n",
        "- A idade não parece ter um impacto direto na sobrevivência de mulheres."
      ]
    },
    {
      "cell_type": "markdown",
      "metadata": {
        "id": "HNM5anYNsd3M"
      },
      "source": [
        "Esse gráfico de violina confirma um velho código de conduta de marinheiros e capitães em situações desse tipo:\n"
      ]
    },
    {
      "cell_type": "markdown",
      "metadata": {
        "id": "MsgNFiFCsd3M"
      },
      "source": [
        "![energy](https://github.com/ahmedbesbes/How-to-score-0.8134-in-Titanic-Kaggle-Challenge/blob/master/images/article_1/titanic.jpg?raw=1)\n",
        "\n",
        "\n"
      ]
    },
    {
      "cell_type": "markdown",
      "metadata": {
        "id": "h7bxayeWsd3N"
      },
      "source": [
        "<b>\"Mulheres e crianças primeiro !\"</b>."
      ]
    },
    {
      "cell_type": "code",
      "metadata": {
        "id": "Q1twKGPssd3P",
        "colab": {
          "base_uri": "https://localhost:8080/",
          "height": 287
        },
        "outputId": "dfadc308-3193-453f-ed7c-4ac781b54668"
      },
      "source": [
        "figure = plt.figure(figsize=(25, 7))\n",
        "plt.hist([data[data['Survived'] == 1]['Fare'], data[data['Survived'] == 0]['Fare']], \n",
        "         stacked=True, color = ['g','r'],\n",
        "         bins = 50, label = ['Survived','Dead'])\n",
        "plt.xlabel('Fare')\n",
        "plt.ylabel('Number of passengers')\n",
        "plt.legend();"
      ],
      "execution_count": null,
      "outputs": [
        {
          "output_type": "display_data",
          "data": {
            "image/png": "[encoded data removed]",
            "text/plain": [
              "<Figure size 3750x1050 with 1 Axes>"
            ]
          },
          "metadata": {
            "tags": [],
            "needs_background": "light"
          }
        }
      ]
    },
    {
      "cell_type": "markdown",
      "metadata": {
        "id": "omb0SlSpsd3U"
      },
      "source": [
        "Passageiros com tickets mais baratos tem mais chance de morrer.\n",
        "Colocado de outra forma, passageiros com tickets mais caros e com maior status social, parecm ser resgatados primeiro.\n"
      ]
    },
    {
      "cell_type": "markdown",
      "metadata": {
        "id": "k_sz41Alsd3V"
      },
      "source": [
        "Legal ! Agora vamos combinar a idade, a tarifa e a sobrevivência em um único gráfico.\n"
      ]
    },
    {
      "cell_type": "code",
      "metadata": {
        "id": "D2jC9X70sd3W",
        "colab": {
          "base_uri": "https://localhost:8080/",
          "height": 280
        },
        "outputId": "48101883-1398-4954-c72f-3c920cf197c9"
      },
      "source": [
        "plt.figure(figsize=(25, 7))\n",
        "ax = plt.subplot()\n",
        "\n",
        "ax.scatter(data[data['Survived'] == 1]['Age'], data[data['Survived'] == 1]['Fare'], \n",
        "           c='green', s=data[data['Survived'] == 1]['Fare'])\n",
        "ax.scatter(data[data['Survived'] == 0]['Age'], data[data['Survived'] == 0]['Fare'], \n",
        "           c='red', s=data[data['Survived'] == 0]['Fare']);"
      ],
      "execution_count": null,
      "outputs": [
        {
          "output_type": "display_data",
          "data": {
            "image/png": "[encoded data removed]",
            "text/plain": [
              "<Figure size 3750x1050 with 1 Axes>"
            ]
          },
          "metadata": {
            "tags": [],
            "needs_background": "light"
          }
        }
      ]
    },
    {
      "cell_type": "markdown",
      "metadata": {
        "id": "_bo-fNZisd3a"
      },
      "source": [
        "O tamanho dos círculos é proporcional à tarifa da passagem.\n",
        "\n",
        "No eixo x, temos as idades e no eixo y, consideramos a tarifa da passagem.\n",
        "\n",
        "Podemos observar diferentes clusters:\n",
        "\n",
        "1. Grandes pontos verdes entre x = 20 e x = 45: adultos com as maiores tarifas\n",
        "2. Pequenos pontos vermelhos entre x = 10 e x = 45, adultos de classes mais baixas no barco\n",
        "3. Pequenos pontos de ganância entre x = 0 e x = 7: essas são as crianças que foram salvas"
      ]
    },
    {
      "cell_type": "markdown",
      "metadata": {
        "id": "jYWx_1tJsd3a"
      },
      "source": [
        "Na verdade, a tarifa do bilhete se correlaciona com a classe, como vemos no gráfico abaixo."
      ]
    },
    {
      "cell_type": "code",
      "metadata": {
        "id": "Hz_aFtumsd3a",
        "colab": {
          "base_uri": "https://localhost:8080/",
          "height": 285
        },
        "outputId": "62da82fa-c4d2-4bb5-f3cc-f42a6689edc3"
      },
      "source": [
        "ax = plt.subplot()\n",
        "ax.set_ylabel('Average fare')\n",
        "data.groupby('Pclass').mean()['Fare'].plot(kind='bar', figsize=(25, 7), ax = ax);"
      ],
      "execution_count": null,
      "outputs": [
        {
          "output_type": "display_data",
          "data": {
            "image/png": "[encoded data removed]",
            "text/plain": [
              "<Figure size 3750x1050 with 1 Axes>"
            ]
          },
          "metadata": {
            "tags": [],
            "needs_background": "light"
          }
        }
      ]
    },
    {
      "cell_type": "markdown",
      "metadata": {
        "id": "lFLXWqRfsd3f"
      },
      "source": [
        "Vamos ver como o port de embarque afeta a sobrevivência.\n"
      ]
    },
    {
      "cell_type": "code",
      "metadata": {
        "id": "I1yI2ARysd3g",
        "colab": {
          "base_uri": "https://localhost:8080/",
          "height": 263
        },
        "outputId": "90e5f672-8287-4545-c2cd-ef3129268ed9"
      },
      "source": [
        "fig = plt.figure(figsize=(25, 7))\n",
        "sns.violinplot(x='Embarked', y='Fare', hue='Survived', data=data, split=True, palette={0: \"r\", 1: \"g\"});"
      ],
      "execution_count": null,
      "outputs": [
        {
          "output_type": "display_data",
          "data": {
            "image/png": "[encoded data removed]",
            "text/plain": [
              "<Figure size 3750x1050 with 1 Axes>"
            ]
          },
          "metadata": {
            "tags": [],
            "needs_background": "light"
          }
        }
      ]
    },
    {
      "cell_type": "markdown",
      "metadata": {
        "id": "CLKUmuJYsd3l"
      },
      "source": [
        "Parece que o embarque em C tem uma gama maior de passagens e, portanto, os passageiros que pagam os preços mais altos são os que sobrevivem.\n",
        "\n",
        "Também vemos isso acontecendo na embarcação S e menos na embarque Q.\n",
        "\n",
        "Agora vamos parar com a exploração de dados e passar para a próxima parte."
      ]
    },
    {
      "cell_type": "markdown",
      "metadata": {
        "id": "AfDG2iWIsd3n"
      },
      "source": [
        "# II - Feature engineering"
      ]
    },
    {
      "cell_type": "markdown",
      "metadata": {
        "id": "C4cKAfyusd3n"
      },
      "source": [
        "In the previous part, we flirted with the data and spotted some interesting correlations.\n",
        "\n",
        "In this part, we'll see how to process and transform these variables in such a way the data becomes manageable by a machine learning algorithm.\n",
        "\n",
        "We'll also create, or \"engineer\" additional features that will be useful in building the model.\n",
        "\n",
        "We'll see along the way how to process text variables like the passenger names and integrate this information in our model.\n",
        "\n",
        "We will break our code in separate functions for more clarity."
      ]
    },
    {
      "cell_type": "markdown",
      "metadata": {
        "id": "ulJ6fDAjsd3o"
      },
      "source": [
        "But first, let's define a print function that asserts whether or not a feature has been processed. "
      ]
    },
    {
      "cell_type": "code",
      "metadata": {
        "id": "Dt55lkEosd3o"
      },
      "source": [
        "def status(feature):\n",
        "    print('Processing', feature, ': ok')"
      ],
      "execution_count": null,
      "outputs": []
    },
    {
      "cell_type": "markdown",
      "metadata": {
        "id": "0thcw-mCsd3r"
      },
      "source": [
        "###  Loading the data\n",
        "\n",
        "One trick when starting a machine learning problem is to append the training set to the test set together.\n",
        "\n",
        "We'll engineer new features using the train set to prevent information leakage. Then we'll add these variables to the test set.\n",
        "\n",
        "Let's load the train and test sets and append them together."
      ]
    },
    {
      "cell_type": "code",
      "metadata": {
        "id": "GYJSco7Vsd3t"
      },
      "source": [
        "def get_combined_data():\n",
        "    # reading train data\n",
        "    train = pd.read_csv(io.BytesIO(uploaded['train.csv']))\n",
        "    \n",
        "    # reading test data\n",
        "    test = pd.read_csv(io.BytesIO(uploaded['test.csv']))\n",
        "\n",
        "    # extracting and then removing the targets from the training data \n",
        "    targets = train.Survived\n",
        "    train.drop(['Survived'], 1, inplace=True)\n",
        "    \n",
        "\n",
        "    # merging train data and test data for future feature engineering\n",
        "    # we'll also remove the PassengerID since this is not an informative feature\n",
        "    combined = train.append(test)\n",
        "    combined.reset_index(inplace=True)\n",
        "    combined.drop(['index', 'PassengerId'], inplace=True, axis=1)\n",
        "    \n",
        "    return combined"
      ],
      "execution_count": null,
      "outputs": []
    },
    {
      "cell_type": "code",
      "metadata": {
        "id": "4k47gJk8sd3x"
      },
      "source": [
        "combined = get_combined_data()"
      ],
      "execution_count": null,
      "outputs": []
    },
    {
      "cell_type": "markdown",
      "metadata": {
        "id": "YAg5RqABsd33"
      },
      "source": [
        "Let's have a look at the shape :"
      ]
    },
    {
      "cell_type": "code",
      "metadata": {
        "id": "K5gtQm7Hsd34",
        "colab": {
          "base_uri": "https://localhost:8080/"
        },
        "outputId": "8571e68b-c5af-4660-d29a-f583364b7fc0"
      },
      "source": [
        "print(combined.shape)"
      ],
      "execution_count": null,
      "outputs": [
        {
          "output_type": "stream",
          "text": [
            "(1309, 10)\n"
          ],
          "name": "stdout"
        }
      ]
    },
    {
      "cell_type": "markdown",
      "metadata": {
        "id": "um029ryQsd37"
      },
      "source": [
        "train and test sets are combined.\n",
        "\n",
        "You may notice that the total number of rows (1309) is the exact summation of the number of rows in the train set and the test set."
      ]
    },
    {
      "cell_type": "code",
      "metadata": {
        "id": "S7gxmmzdsd37",
        "colab": {
          "base_uri": "https://localhost:8080/"
        },
        "outputId": "52fddf02-f43c-4bbc-ca37-d23c25cda34f"
      },
      "source": [
        "combined.head()"
      ],
      "execution_count": null,
      "outputs": [
        {
          "output_type": "execute_result",
          "data": {
            "text/html": [
              "<div>\n",
              "<style scoped>\n",
              "    .dataframe tbody tr th:only-of-type {\n",
              "        vertical-align: middle;\n",
              "    }\n",
              "\n",
              "    .dataframe tbody tr th {\n",
              "        vertical-align: top;\n",
              "    }\n",
              "\n",
              "    .dataframe thead th {\n",
              "        text-align: right;\n",
              "    }\n",
              "</style>\n",
              "<table border=\"1\" class=\"dataframe\">\n",
              "  <thead>\n",
              "    <tr style=\"text-align: right;\">\n",
              "      <th></th>\n",
              "      <th>Pclass</th>\n",
              "      <th>Name</th>\n",
              "      <th>Sex</th>\n",
              "      <th>Age</th>\n",
              "      <th>SibSp</th>\n",
              "      <th>Parch</th>\n",
              "      <th>Ticket</th>\n",
              "      <th>Fare</th>\n",
              "      <th>Cabin</th>\n",
              "      <th>Embarked</th>\n",
              "    </tr>\n",
              "  </thead>\n",
              "  <tbody>\n",
              "    <tr>\n",
              "      <th>0</th>\n",
              "      <td>3</td>\n",
              "      <td>Braund, Mr. Owen Harris</td>\n",
              "      <td>male</td>\n",
              "      <td>22.0</td>\n",
              "      <td>1</td>\n",
              "      <td>0</td>\n",
              "      <td>A/5 21171</td>\n",
              "      <td>7.2500</td>\n",
              "      <td>NaN</td>\n",
              "      <td>S</td>\n",
              "    </tr>\n",
              "    <tr>\n",
              "      <th>1</th>\n",
              "      <td>1</td>\n",
              "      <td>Cumings, Mrs. John Bradley (Florence Briggs Th...</td>\n",
              "      <td>female</td>\n",
              "      <td>38.0</td>\n",
              "      <td>1</td>\n",
              "      <td>0</td>\n",
              "      <td>PC 17599</td>\n",
              "      <td>71.2833</td>\n",
              "      <td>C85</td>\n",
              "      <td>C</td>\n",
              "    </tr>\n",
              "    <tr>\n",
              "      <th>2</th>\n",
              "      <td>3</td>\n",
              "      <td>Heikkinen, Miss. Laina</td>\n",
              "      <td>female</td>\n",
              "      <td>26.0</td>\n",
              "      <td>0</td>\n",
              "      <td>0</td>\n",
              "      <td>STON/O2. 3101282</td>\n",
              "      <td>7.9250</td>\n",
              "      <td>NaN</td>\n",
              "      <td>S</td>\n",
              "    </tr>\n",
              "    <tr>\n",
              "      <th>3</th>\n",
              "      <td>1</td>\n",
              "      <td>Futrelle, Mrs. Jacques Heath (Lily May Peel)</td>\n",
              "      <td>female</td>\n",
              "      <td>35.0</td>\n",
              "      <td>1</td>\n",
              "      <td>0</td>\n",
              "      <td>113803</td>\n",
              "      <td>53.1000</td>\n",
              "      <td>C123</td>\n",
              "      <td>S</td>\n",
              "    </tr>\n",
              "    <tr>\n",
              "      <th>4</th>\n",
              "      <td>3</td>\n",
              "      <td>Allen, Mr. William Henry</td>\n",
              "      <td>male</td>\n",
              "      <td>35.0</td>\n",
              "      <td>0</td>\n",
              "      <td>0</td>\n",
              "      <td>373450</td>\n",
              "      <td>8.0500</td>\n",
              "      <td>NaN</td>\n",
              "      <td>S</td>\n",
              "    </tr>\n",
              "  </tbody>\n",
              "</table>\n",
              "</div>"
            ],
            "text/plain": [
              "   Pclass                                               Name     Sex   Age  \\\n",
              "0       3                            Braund, Mr. Owen Harris    male  22.0   \n",
              "1       1  Cumings, Mrs. John Bradley (Florence Briggs Th...  female  38.0   \n",
              "2       3                             Heikkinen, Miss. Laina  female  26.0   \n",
              "3       1       Futrelle, Mrs. Jacques Heath (Lily May Peel)  female  35.0   \n",
              "4       3                           Allen, Mr. William Henry    male  35.0   \n",
              "\n",
              "   SibSp  Parch            Ticket     Fare Cabin Embarked  \n",
              "0      1      0         A/5 21171   7.2500   NaN        S  \n",
              "1      1      0          PC 17599  71.2833   C85        C  \n",
              "2      0      0  STON/O2. 3101282   7.9250   NaN        S  \n",
              "3      1      0            113803  53.1000  C123        S  \n",
              "4      0      0            373450   8.0500   NaN        S  "
            ]
          },
          "metadata": {
            "tags": []
          },
          "execution_count": 26
        }
      ]
    },
    {
      "cell_type": "markdown",
      "metadata": {
        "id": "V0e-LzhOsd3_"
      },
      "source": [
        "### Extracting the passenger titles\n",
        "\n",
        "When looking at the passenger names one could wonder how to process them to extract a useful information.\n",
        "\n",
        "If you look closely at these first examples: \n",
        "\n",
        "- Braund, <b> Mr.</b> Owen Harris\t\n",
        "- Heikkinen, <b>Miss.</b> Laina\n",
        "- Oliva y Ocana, <b>Dona.</b> Fermina\n",
        "- Peter, <b>Master.</b> Michael J\n",
        "\n",
        "You will notice that each name has a title in it ! This can be a simple Miss. or Mrs. but it can be sometimes something more sophisticated like Master, Sir or Dona. In that case, we might introduce an additional information about the social status by simply parsing the name and extracting the title and converting to a binary variable.\n",
        "\n",
        "Let's see how we'll do that in the function below."
      ]
    },
    {
      "cell_type": "markdown",
      "metadata": {
        "id": "F3nrmNzhsd3_"
      },
      "source": [
        "Let's first see what the different titles are in the train set "
      ]
    },
    {
      "cell_type": "code",
      "metadata": {
        "id": "VP0foitFsd4A"
      },
      "source": [
        "titles = set()\n",
        "for name in data['Name']:\n",
        "    titles.add(name.split(',')[1].split('.')[0].strip())"
      ],
      "execution_count": null,
      "outputs": []
    },
    {
      "cell_type": "code",
      "metadata": {
        "id": "cxsJrOWJsd4H",
        "colab": {
          "base_uri": "https://localhost:8080/"
        },
        "outputId": "4f6e9bad-b23a-4d6c-e820-493dcdc27b44"
      },
      "source": [
        "print(titles)"
      ],
      "execution_count": null,
      "outputs": [
        {
          "output_type": "stream",
          "text": [
            "{'Mrs', 'Jonkheer', 'Master', 'Major', 'Col', 'Capt', 'Don', 'Rev', 'Sir', 'Ms', 'Mr', 'Dr', 'Mlle', 'Miss', 'Lady', 'Mme', 'the Countess'}\n"
          ],
          "name": "stdout"
        }
      ]
    },
    {
      "cell_type": "code",
      "metadata": {
        "id": "zthwpatbsd4K"
      },
      "source": [
        "Title_Dictionary = {\n",
        "    \"Capt\": \"Officer\",\n",
        "    \"Col\": \"Officer\",\n",
        "    \"Major\": \"Officer\",\n",
        "    \"Jonkheer\": \"Royalty\",\n",
        "    \"Don\": \"Royalty\",\n",
        "    \"Sir\" : \"Royalty\",\n",
        "    \"Dr\": \"Officer\",\n",
        "    \"Rev\": \"Officer\",\n",
        "    \"the Countess\":\"Royalty\",\n",
        "    \"Mme\": \"Mrs\",\n",
        "    \"Mlle\": \"Miss\",\n",
        "    \"Ms\": \"Mrs\",\n",
        "    \"Mr\" : \"Mr\",\n",
        "    \"Mrs\" : \"Mrs\",\n",
        "    \"Miss\" : \"Miss\",\n",
        "    \"Master\" : \"Master\",\n",
        "    \"Lady\" : \"Royalty\"\n",
        "}\n",
        "\n",
        "def get_titles():\n",
        "    # we extract the title from each name\n",
        "    combined['Title'] = combined['Name'].map(lambda name:name.split(',')[1].split('.')[0].strip())\n",
        "    \n",
        "    # a map of more aggregated title\n",
        "    # we map each title\n",
        "    combined['Title'] = combined.Title.map(Title_Dictionary)\n",
        "    status('Title')\n",
        "    return combined"
      ],
      "execution_count": null,
      "outputs": []
    },
    {
      "cell_type": "markdown",
      "metadata": {
        "id": "ETC60UzPsd4O"
      },
      "source": [
        "This function parses the names and extract the titles. Then, it maps the titles to categories of titles. \n",
        "We selected : \n",
        "\n",
        "- Officer\n",
        "- Royalty \n",
        "- Mr\n",
        "- Mrs\n",
        "- Miss\n",
        "- Master\n",
        "\n",
        "Let's run it !"
      ]
    },
    {
      "cell_type": "code",
      "metadata": {
        "id": "pkRX7vpQsd4P",
        "colab": {
          "base_uri": "https://localhost:8080/"
        },
        "outputId": "b9afc87a-81cb-4201-ec86-fd8f4afcb493"
      },
      "source": [
        "combined = get_titles()"
      ],
      "execution_count": null,
      "outputs": [
        {
          "output_type": "stream",
          "text": [
            "Processing Title : ok\n"
          ],
          "name": "stdout"
        }
      ]
    },
    {
      "cell_type": "code",
      "metadata": {
        "id": "RU6HAYGVsd4S",
        "colab": {
          "base_uri": "https://localhost:8080/"
        },
        "outputId": "a4196979-d3b3-41dd-e550-9696994c87a9"
      },
      "source": [
        "combined.head()"
      ],
      "execution_count": null,
      "outputs": [
        {
          "output_type": "execute_result",
          "data": {
            "text/html": [
              "<div>\n",
              "<style scoped>\n",
              "    .dataframe tbody tr th:only-of-type {\n",
              "        vertical-align: middle;\n",
              "    }\n",
              "\n",
              "    .dataframe tbody tr th {\n",
              "        vertical-align: top;\n",
              "    }\n",
              "\n",
              "    .dataframe thead th {\n",
              "        text-align: right;\n",
              "    }\n",
              "</style>\n",
              "<table border=\"1\" class=\"dataframe\">\n",
              "  <thead>\n",
              "    <tr style=\"text-align: right;\">\n",
              "      <th></th>\n",
              "      <th>Pclass</th>\n",
              "      <th>Name</th>\n",
              "      <th>Sex</th>\n",
              "      <th>Age</th>\n",
              "      <th>SibSp</th>\n",
              "      <th>Parch</th>\n",
              "      <th>Ticket</th>\n",
              "      <th>Fare</th>\n",
              "      <th>Cabin</th>\n",
              "      <th>Embarked</th>\n",
              "      <th>Title</th>\n",
              "    </tr>\n",
              "  </thead>\n",
              "  <tbody>\n",
              "    <tr>\n",
              "      <th>0</th>\n",
              "      <td>3</td>\n",
              "      <td>Braund, Mr. Owen Harris</td>\n",
              "      <td>male</td>\n",
              "      <td>22.0</td>\n",
              "      <td>1</td>\n",
              "      <td>0</td>\n",
              "      <td>A/5 21171</td>\n",
              "      <td>7.2500</td>\n",
              "      <td>NaN</td>\n",
              "      <td>S</td>\n",
              "      <td>Mr</td>\n",
              "    </tr>\n",
              "    <tr>\n",
              "      <th>1</th>\n",
              "      <td>1</td>\n",
              "      <td>Cumings, Mrs. John Bradley (Florence Briggs Th...</td>\n",
              "      <td>female</td>\n",
              "      <td>38.0</td>\n",
              "      <td>1</td>\n",
              "      <td>0</td>\n",
              "      <td>PC 17599</td>\n",
              "      <td>71.2833</td>\n",
              "      <td>C85</td>\n",
              "      <td>C</td>\n",
              "      <td>Mrs</td>\n",
              "    </tr>\n",
              "    <tr>\n",
              "      <th>2</th>\n",
              "      <td>3</td>\n",
              "      <td>Heikkinen, Miss. Laina</td>\n",
              "      <td>female</td>\n",
              "      <td>26.0</td>\n",
              "      <td>0</td>\n",
              "      <td>0</td>\n",
              "      <td>STON/O2. 3101282</td>\n",
              "      <td>7.9250</td>\n",
              "      <td>NaN</td>\n",
              "      <td>S</td>\n",
              "      <td>Miss</td>\n",
              "    </tr>\n",
              "    <tr>\n",
              "      <th>3</th>\n",
              "      <td>1</td>\n",
              "      <td>Futrelle, Mrs. Jacques Heath (Lily May Peel)</td>\n",
              "      <td>female</td>\n",
              "      <td>35.0</td>\n",
              "      <td>1</td>\n",
              "      <td>0</td>\n",
              "      <td>113803</td>\n",
              "      <td>53.1000</td>\n",
              "      <td>C123</td>\n",
              "      <td>S</td>\n",
              "      <td>Mrs</td>\n",
              "    </tr>\n",
              "    <tr>\n",
              "      <th>4</th>\n",
              "      <td>3</td>\n",
              "      <td>Allen, Mr. William Henry</td>\n",
              "      <td>male</td>\n",
              "      <td>35.0</td>\n",
              "      <td>0</td>\n",
              "      <td>0</td>\n",
              "      <td>373450</td>\n",
              "      <td>8.0500</td>\n",
              "      <td>NaN</td>\n",
              "      <td>S</td>\n",
              "      <td>Mr</td>\n",
              "    </tr>\n",
              "  </tbody>\n",
              "</table>\n",
              "</div>"
            ],
            "text/plain": [
              "   Pclass                                               Name     Sex   Age  \\\n",
              "0       3                            Braund, Mr. Owen Harris    male  22.0   \n",
              "1       1  Cumings, Mrs. John Bradley (Florence Briggs Th...  female  38.0   \n",
              "2       3                             Heikkinen, Miss. Laina  female  26.0   \n",
              "3       1       Futrelle, Mrs. Jacques Heath (Lily May Peel)  female  35.0   \n",
              "4       3                           Allen, Mr. William Henry    male  35.0   \n",
              "\n",
              "   SibSp  Parch            Ticket     Fare Cabin Embarked Title  \n",
              "0      1      0         A/5 21171   7.2500   NaN        S    Mr  \n",
              "1      1      0          PC 17599  71.2833   C85        C   Mrs  \n",
              "2      0      0  STON/O2. 3101282   7.9250   NaN        S  Miss  \n",
              "3      1      0            113803  53.1000  C123        S   Mrs  \n",
              "4      0      0            373450   8.0500   NaN        S    Mr  "
            ]
          },
          "metadata": {
            "tags": []
          },
          "execution_count": 31
        }
      ]
    },
    {
      "cell_type": "markdown",
      "metadata": {
        "id": "tV29EUZ3sd4Y"
      },
      "source": [
        "Let's check if the titles have been filled correctly."
      ]
    },
    {
      "cell_type": "code",
      "metadata": {
        "id": "fOruzlkAsd4Z",
        "colab": {
          "base_uri": "https://localhost:8080/"
        },
        "outputId": "eada99ac-32fa-4ffb-b2b3-5c2dc1723e5f"
      },
      "source": [
        "combined[combined['Title'].isnull()]"
      ],
      "execution_count": null,
      "outputs": [
        {
          "output_type": "execute_result",
          "data": {
            "text/html": [
              "<div>\n",
              "<style scoped>\n",
              "    .dataframe tbody tr th:only-of-type {\n",
              "        vertical-align: middle;\n",
              "    }\n",
              "\n",
              "    .dataframe tbody tr th {\n",
              "        vertical-align: top;\n",
              "    }\n",
              "\n",
              "    .dataframe thead th {\n",
              "        text-align: right;\n",
              "    }\n",
              "</style>\n",
              "<table border=\"1\" class=\"dataframe\">\n",
              "  <thead>\n",
              "    <tr style=\"text-align: right;\">\n",
              "      <th></th>\n",
              "      <th>Pclass</th>\n",
              "      <th>Name</th>\n",
              "      <th>Sex</th>\n",
              "      <th>Age</th>\n",
              "      <th>SibSp</th>\n",
              "      <th>Parch</th>\n",
              "      <th>Ticket</th>\n",
              "      <th>Fare</th>\n",
              "      <th>Cabin</th>\n",
              "      <th>Embarked</th>\n",
              "      <th>Title</th>\n",
              "    </tr>\n",
              "  </thead>\n",
              "  <tbody>\n",
              "    <tr>\n",
              "      <th>1305</th>\n",
              "      <td>1</td>\n",
              "      <td>Oliva y Ocana, Dona. Fermina</td>\n",
              "      <td>female</td>\n",
              "      <td>39.0</td>\n",
              "      <td>0</td>\n",
              "      <td>0</td>\n",
              "      <td>PC 17758</td>\n",
              "      <td>108.9</td>\n",
              "      <td>C105</td>\n",
              "      <td>C</td>\n",
              "      <td>NaN</td>\n",
              "    </tr>\n",
              "  </tbody>\n",
              "</table>\n",
              "</div>"
            ],
            "text/plain": [
              "      Pclass                          Name     Sex   Age  SibSp  Parch  \\\n",
              "1305       1  Oliva y Ocana, Dona. Fermina  female  39.0      0      0   \n",
              "\n",
              "        Ticket   Fare Cabin Embarked Title  \n",
              "1305  PC 17758  108.9  C105        C   NaN  "
            ]
          },
          "metadata": {
            "tags": []
          },
          "execution_count": 32
        }
      ]
    },
    {
      "cell_type": "markdown",
      "metadata": {
        "id": "GA3keAKssd4c"
      },
      "source": [
        "There is indeed a NaN value in the line 1305. In fact the corresponding name is Oliva y Ocana, **Dona**. Fermina.\n",
        "\n",
        "This title was not encoutered in the train dataset."
      ]
    },
    {
      "cell_type": "markdown",
      "metadata": {
        "id": "aLfmAY60sd4f"
      },
      "source": [
        "Perfect. Now we have an additional column called <b>Title</b> that contains the information."
      ]
    },
    {
      "cell_type": "markdown",
      "metadata": {
        "collapsed": true,
        "id": "lyEW3DqCsd4p"
      },
      "source": [
        "### Processing the ages\n",
        "\n",
        "We have seen in the first part that the Age variable was missing 177 values. This is a large number ( ~ 13% of the dataset). Simply replacing them with the mean or the median age might not be the best solution since the age may differ by groups and categories of passengers. \n",
        "\n",
        "To understand why, let's group our dataset by sex, Title and passenger class and for each subset compute the median age.\n",
        "\n",
        "To avoid data leakage from the test set, we fill in missing ages in the train using the train set and we fill in ages in the test set using values calculated from the train set as well."
      ]
    },
    {
      "cell_type": "markdown",
      "metadata": {
        "id": "EEp0T4VFsd4q"
      },
      "source": [
        "Number of missing ages in train set"
      ]
    },
    {
      "cell_type": "code",
      "metadata": {
        "id": "QuR8-qMbsd4q",
        "colab": {
          "base_uri": "https://localhost:8080/"
        },
        "outputId": "6603654f-4779-43cc-b131-a96cca7a7106"
      },
      "source": [
        "print(combined.iloc[:891].Age.isnull().sum())"
      ],
      "execution_count": null,
      "outputs": [
        {
          "output_type": "stream",
          "text": [
            "177\n"
          ],
          "name": "stdout"
        }
      ]
    },
    {
      "cell_type": "markdown",
      "metadata": {
        "id": "Uo69pdyssd4t"
      },
      "source": [
        "Number of missing ages in test set"
      ]
    },
    {
      "cell_type": "code",
      "metadata": {
        "id": "k-JNpUFqsd4v",
        "colab": {
          "base_uri": "https://localhost:8080/"
        },
        "outputId": "68791d4f-c915-429e-9705-a2b20faa4a10"
      },
      "source": [
        "print(combined.iloc[891:].Age.isnull().sum())"
      ],
      "execution_count": null,
      "outputs": [
        {
          "output_type": "stream",
          "text": [
            "86\n"
          ],
          "name": "stdout"
        }
      ]
    },
    {
      "cell_type": "code",
      "metadata": {
        "id": "5gLD7JxLsd4y"
      },
      "source": [
        "grouped_train = combined.iloc[:891].groupby(['Sex','Pclass','Title'])\n",
        "grouped_median_train = grouped_train.median()\n",
        "grouped_median_train = grouped_median_train.reset_index()[['Sex', 'Pclass', 'Title', 'Age']]"
      ],
      "execution_count": null,
      "outputs": []
    },
    {
      "cell_type": "code",
      "metadata": {
        "id": "jmtbTXPtsd47",
        "colab": {
          "base_uri": "https://localhost:8080/"
        },
        "outputId": "fd08c0e9-7b4d-41e6-f3f7-f6ecf09c737c"
      },
      "source": [
        "grouped_median_train.head()"
      ],
      "execution_count": null,
      "outputs": [
        {
          "output_type": "execute_result",
          "data": {
            "text/html": [
              "<div>\n",
              "<style scoped>\n",
              "    .dataframe tbody tr th:only-of-type {\n",
              "        vertical-align: middle;\n",
              "    }\n",
              "\n",
              "    .dataframe tbody tr th {\n",
              "        vertical-align: top;\n",
              "    }\n",
              "\n",
              "    .dataframe thead th {\n",
              "        text-align: right;\n",
              "    }\n",
              "</style>\n",
              "<table border=\"1\" class=\"dataframe\">\n",
              "  <thead>\n",
              "    <tr style=\"text-align: right;\">\n",
              "      <th></th>\n",
              "      <th>Sex</th>\n",
              "      <th>Pclass</th>\n",
              "      <th>Title</th>\n",
              "      <th>Age</th>\n",
              "    </tr>\n",
              "  </thead>\n",
              "  <tbody>\n",
              "    <tr>\n",
              "      <th>0</th>\n",
              "      <td>female</td>\n",
              "      <td>1</td>\n",
              "      <td>Miss</td>\n",
              "      <td>30.0</td>\n",
              "    </tr>\n",
              "    <tr>\n",
              "      <th>1</th>\n",
              "      <td>female</td>\n",
              "      <td>1</td>\n",
              "      <td>Mrs</td>\n",
              "      <td>40.0</td>\n",
              "    </tr>\n",
              "    <tr>\n",
              "      <th>2</th>\n",
              "      <td>female</td>\n",
              "      <td>1</td>\n",
              "      <td>Officer</td>\n",
              "      <td>49.0</td>\n",
              "    </tr>\n",
              "    <tr>\n",
              "      <th>3</th>\n",
              "      <td>female</td>\n",
              "      <td>1</td>\n",
              "      <td>Royalty</td>\n",
              "      <td>40.5</td>\n",
              "    </tr>\n",
              "    <tr>\n",
              "      <th>4</th>\n",
              "      <td>female</td>\n",
              "      <td>2</td>\n",
              "      <td>Miss</td>\n",
              "      <td>24.0</td>\n",
              "    </tr>\n",
              "  </tbody>\n",
              "</table>\n",
              "</div>"
            ],
            "text/plain": [
              "      Sex  Pclass    Title   Age\n",
              "0  female       1     Miss  30.0\n",
              "1  female       1      Mrs  40.0\n",
              "2  female       1  Officer  49.0\n",
              "3  female       1  Royalty  40.5\n",
              "4  female       2     Miss  24.0"
            ]
          },
          "metadata": {
            "tags": []
          },
          "execution_count": 36
        }
      ]
    },
    {
      "cell_type": "markdown",
      "metadata": {
        "id": "FZwCspBLsd5C"
      },
      "source": [
        "This dataframe will help us impute missing age values based on different criteria."
      ]
    },
    {
      "cell_type": "markdown",
      "metadata": {
        "id": "7_UZQyZqsd5C"
      },
      "source": [
        "Look at the median age column and see how this value can be different based on the Sex, Pclass and Title put together.\n",
        "\n",
        "For example: \n",
        "\n",
        "- If the passenger is female, from Pclass 1, and from royalty the median age is 40.5.\n",
        "- If the passenger is male, from Pclass 3, with a Mr title, the median age is 26.\n",
        "\n",
        "Let's create a function that fills in the missing age in <b>combined</b> based on these different attributes."
      ]
    },
    {
      "cell_type": "code",
      "metadata": {
        "id": "lKi9NIMosd5D"
      },
      "source": [
        "def fill_age(row):\n",
        "    condition = (\n",
        "        (grouped_median_train['Sex'] == row['Sex']) & \n",
        "        (grouped_median_train['Title'] == row['Title']) & \n",
        "        (grouped_median_train['Pclass'] == row['Pclass'])\n",
        "    ) \n",
        "    return grouped_median_train[condition]['Age'].values[0]\n",
        "\n",
        "\n",
        "def process_age():\n",
        "    global combined\n",
        "    # a function that fills the missing values of the Age variable\n",
        "    combined['Age'] = combined.apply(lambda row: fill_age(row) if np.isnan(row['Age']) else row['Age'], axis=1)\n",
        "    status('age')\n",
        "    return combined"
      ],
      "execution_count": null,
      "outputs": []
    },
    {
      "cell_type": "code",
      "metadata": {
        "id": "9c02_KGJsd5N",
        "colab": {
          "base_uri": "https://localhost:8080/"
        },
        "outputId": "aaf2a077-ef0d-4a16-8fdc-973d2beb14ad"
      },
      "source": [
        "combined = process_age()"
      ],
      "execution_count": null,
      "outputs": [
        {
          "output_type": "stream",
          "text": [
            "Processing age : ok\n"
          ],
          "name": "stdout"
        }
      ]
    },
    {
      "cell_type": "markdown",
      "metadata": {
        "id": "xUWaVo4msd5U"
      },
      "source": [
        "Perfect. The missing ages have been replaced. \n",
        "\n",
        "However, we notice a missing value in Fare, two missing values in Embarked and a lot of missing values in Cabin. We'll come back to these variables later.\n",
        "\n",
        "Let's now process the names."
      ]
    },
    {
      "cell_type": "code",
      "metadata": {
        "id": "QIHu1S2rsd5U"
      },
      "source": [
        "def process_names():\n",
        "    global combined\n",
        "    # we clean the Name variable\n",
        "    combined.drop('Name', axis=1, inplace=True)\n",
        "    \n",
        "    # encoding in dummy variable\n",
        "    titles_dummies = pd.get_dummies(combined['Title'], prefix='Title')\n",
        "    combined = pd.concat([combined, titles_dummies], axis=1)\n",
        "    \n",
        "    # removing the title variable\n",
        "    combined.drop('Title', axis=1, inplace=True)\n",
        "    \n",
        "    status('names')\n",
        "    return combined"
      ],
      "execution_count": null,
      "outputs": []
    },
    {
      "cell_type": "markdown",
      "metadata": {
        "id": "rNto36pgsd5a"
      },
      "source": [
        "This function drops the Name column since we won't be using it anymore because we created a Title column.\n",
        "\n",
        "Then we encode the title values using a dummy encoding.\n",
        "\n",
        "You can learn about dummy coding and how to easily do it in Pandas <a href=\"http://pandas.pydata.org/pandas-docs/stable/generated/pandas.get_dummies.html\">here</a>.\n"
      ]
    },
    {
      "cell_type": "code",
      "metadata": {
        "id": "cr2wjnW0sd5a",
        "colab": {
          "base_uri": "https://localhost:8080/"
        },
        "outputId": "b4ac2987-f118-4f28-e787-ec8da5dda1f9"
      },
      "source": [
        "combined = process_names()"
      ],
      "execution_count": null,
      "outputs": [
        {
          "output_type": "stream",
          "text": [
            "Processing names : ok\n"
          ],
          "name": "stdout"
        }
      ]
    },
    {
      "cell_type": "code",
      "metadata": {
        "id": "ML1_6zFQsd5e",
        "colab": {
          "base_uri": "https://localhost:8080/"
        },
        "outputId": "c6a550cd-ad05-4527-85b0-dd31554f4bf5"
      },
      "source": [
        "combined.head()"
      ],
      "execution_count": null,
      "outputs": [
        {
          "output_type": "execute_result",
          "data": {
            "text/html": [
              "<div>\n",
              "<style scoped>\n",
              "    .dataframe tbody tr th:only-of-type {\n",
              "        vertical-align: middle;\n",
              "    }\n",
              "\n",
              "    .dataframe tbody tr th {\n",
              "        vertical-align: top;\n",
              "    }\n",
              "\n",
              "    .dataframe thead th {\n",
              "        text-align: right;\n",
              "    }\n",
              "</style>\n",
              "<table border=\"1\" class=\"dataframe\">\n",
              "  <thead>\n",
              "    <tr style=\"text-align: right;\">\n",
              "      <th></th>\n",
              "      <th>Pclass</th>\n",
              "      <th>Sex</th>\n",
              "      <th>Age</th>\n",
              "      <th>SibSp</th>\n",
              "      <th>Parch</th>\n",
              "      <th>Ticket</th>\n",
              "      <th>Fare</th>\n",
              "      <th>Cabin</th>\n",
              "      <th>Embarked</th>\n",
              "      <th>Title_Master</th>\n",
              "      <th>Title_Miss</th>\n",
              "      <th>Title_Mr</th>\n",
              "      <th>Title_Mrs</th>\n",
              "      <th>Title_Officer</th>\n",
              "      <th>Title_Royalty</th>\n",
              "    </tr>\n",
              "  </thead>\n",
              "  <tbody>\n",
              "    <tr>\n",
              "      <th>0</th>\n",
              "      <td>3</td>\n",
              "      <td>male</td>\n",
              "      <td>22.0</td>\n",
              "      <td>1</td>\n",
              "      <td>0</td>\n",
              "      <td>A/5 21171</td>\n",
              "      <td>7.2500</td>\n",
              "      <td>NaN</td>\n",
              "      <td>S</td>\n",
              "      <td>0</td>\n",
              "      <td>0</td>\n",
              "      <td>1</td>\n",
              "      <td>0</td>\n",
              "      <td>0</td>\n",
              "      <td>0</td>\n",
              "    </tr>\n",
              "    <tr>\n",
              "      <th>1</th>\n",
              "      <td>1</td>\n",
              "      <td>female</td>\n",
              "      <td>38.0</td>\n",
              "      <td>1</td>\n",
              "      <td>0</td>\n",
              "      <td>PC 17599</td>\n",
              "      <td>71.2833</td>\n",
              "      <td>C85</td>\n",
              "      <td>C</td>\n",
              "      <td>0</td>\n",
              "      <td>0</td>\n",
              "      <td>0</td>\n",
              "      <td>1</td>\n",
              "      <td>0</td>\n",
              "      <td>0</td>\n",
              "    </tr>\n",
              "    <tr>\n",
              "      <th>2</th>\n",
              "      <td>3</td>\n",
              "      <td>female</td>\n",
              "      <td>26.0</td>\n",
              "      <td>0</td>\n",
              "      <td>0</td>\n",
              "      <td>STON/O2. 3101282</td>\n",
              "      <td>7.9250</td>\n",
              "      <td>NaN</td>\n",
              "      <td>S</td>\n",
              "      <td>0</td>\n",
              "      <td>1</td>\n",
              "      <td>0</td>\n",
              "      <td>0</td>\n",
              "      <td>0</td>\n",
              "      <td>0</td>\n",
              "    </tr>\n",
              "    <tr>\n",
              "      <th>3</th>\n",
              "      <td>1</td>\n",
              "      <td>female</td>\n",
              "      <td>35.0</td>\n",
              "      <td>1</td>\n",
              "      <td>0</td>\n",
              "      <td>113803</td>\n",
              "      <td>53.1000</td>\n",
              "      <td>C123</td>\n",
              "      <td>S</td>\n",
              "      <td>0</td>\n",
              "      <td>0</td>\n",
              "      <td>0</td>\n",
              "      <td>1</td>\n",
              "      <td>0</td>\n",
              "      <td>0</td>\n",
              "    </tr>\n",
              "    <tr>\n",
              "      <th>4</th>\n",
              "      <td>3</td>\n",
              "      <td>male</td>\n",
              "      <td>35.0</td>\n",
              "      <td>0</td>\n",
              "      <td>0</td>\n",
              "      <td>373450</td>\n",
              "      <td>8.0500</td>\n",
              "      <td>NaN</td>\n",
              "      <td>S</td>\n",
              "      <td>0</td>\n",
              "      <td>0</td>\n",
              "      <td>1</td>\n",
              "      <td>0</td>\n",
              "      <td>0</td>\n",
              "      <td>0</td>\n",
              "    </tr>\n",
              "  </tbody>\n",
              "</table>\n",
              "</div>"
            ],
            "text/plain": [
              "   Pclass     Sex   Age  SibSp  Parch            Ticket     Fare Cabin  \\\n",
              "0       3    male  22.0      1      0         A/5 21171   7.2500   NaN   \n",
              "1       1  female  38.0      1      0          PC 17599  71.2833   C85   \n",
              "2       3  female  26.0      0      0  STON/O2. 3101282   7.9250   NaN   \n",
              "3       1  female  35.0      1      0            113803  53.1000  C123   \n",
              "4       3    male  35.0      0      0            373450   8.0500   NaN   \n",
              "\n",
              "  Embarked  Title_Master  Title_Miss  Title_Mr  Title_Mrs  Title_Officer  \\\n",
              "0        S             0           0         1          0              0   \n",
              "1        C             0           0         0          1              0   \n",
              "2        S             0           1         0          0              0   \n",
              "3        S             0           0         0          1              0   \n",
              "4        S             0           0         1          0              0   \n",
              "\n",
              "   Title_Royalty  \n",
              "0              0  \n",
              "1              0  \n",
              "2              0  \n",
              "3              0  \n",
              "4              0  "
            ]
          },
          "metadata": {
            "tags": []
          },
          "execution_count": 41
        }
      ]
    },
    {
      "cell_type": "markdown",
      "metadata": {
        "id": "u8hSgLSwsd5i"
      },
      "source": [
        "As you can see : \n",
        "- there is no longer a name feature. \n",
        "- new variables (Title_X) appeared. These features are binary. \n",
        "    - For example, If Title_Mr = 1, the corresponding Title is Mr."
      ]
    },
    {
      "cell_type": "markdown",
      "metadata": {
        "id": "PKt7Ti40sd5i"
      },
      "source": [
        "### Processing Fare"
      ]
    },
    {
      "cell_type": "markdown",
      "metadata": {
        "id": "DcTPfCFdsd5j"
      },
      "source": [
        "Let's imputed the missing fare value by the average fare computed on the train set"
      ]
    },
    {
      "cell_type": "code",
      "metadata": {
        "id": "WOToKFv0sd5j"
      },
      "source": [
        "def process_fares():\n",
        "    global combined\n",
        "    # there's one missing fare value - replacing it with the mean.\n",
        "    combined.Fare.fillna(combined.iloc[:891].Fare.mean(), inplace=True)\n",
        "    status('fare')\n",
        "    return combined"
      ],
      "execution_count": null,
      "outputs": []
    },
    {
      "cell_type": "markdown",
      "metadata": {
        "id": "BK5dMQMqsd5q"
      },
      "source": [
        "This function simply replaces one missing Fare value by the mean."
      ]
    },
    {
      "cell_type": "code",
      "metadata": {
        "id": "A_w3_gwWsd5q",
        "colab": {
          "base_uri": "https://localhost:8080/"
        },
        "outputId": "9e3b2d8e-1c18-4a52-8958-6af4aa849d6b"
      },
      "source": [
        "combined = process_fares()"
      ],
      "execution_count": null,
      "outputs": [
        {
          "output_type": "stream",
          "text": [
            "Processing fare : ok\n"
          ],
          "name": "stdout"
        }
      ]
    },
    {
      "cell_type": "markdown",
      "metadata": {
        "id": "U-l8HhP2sd5s"
      },
      "source": [
        "### Processing Embarked"
      ]
    },
    {
      "cell_type": "code",
      "metadata": {
        "id": "z2d5qbjusd5t"
      },
      "source": [
        "def process_embarked():\n",
        "    global combined\n",
        "    # two missing embarked values - filling them with the most frequent one in the train  set(S)\n",
        "    combined.Embarked.fillna('S', inplace=True)\n",
        "    # dummy encoding \n",
        "    embarked_dummies = pd.get_dummies(combined['Embarked'], prefix='Embarked')\n",
        "    combined = pd.concat([combined, embarked_dummies], axis=1)\n",
        "    combined.drop('Embarked', axis=1, inplace=True)\n",
        "    status('embarked')\n",
        "    return combined"
      ],
      "execution_count": null,
      "outputs": []
    },
    {
      "cell_type": "markdown",
      "metadata": {
        "id": "keLi3T_Ksd5y"
      },
      "source": [
        "This functions replaces the two missing values of Embarked with the most frequent Embarked value."
      ]
    },
    {
      "cell_type": "code",
      "metadata": {
        "id": "dS-6gyqIsd5z",
        "colab": {
          "base_uri": "https://localhost:8080/"
        },
        "outputId": "8d5b8a52-d01b-49b4-8416-c684d73d7a3f"
      },
      "source": [
        "combined = process_embarked()"
      ],
      "execution_count": null,
      "outputs": [
        {
          "output_type": "stream",
          "text": [
            "Processing embarked : ok\n"
          ],
          "name": "stdout"
        }
      ]
    },
    {
      "cell_type": "code",
      "metadata": {
        "id": "PLNU8rD5sd56",
        "colab": {
          "base_uri": "https://localhost:8080/"
        },
        "outputId": "7212b810-44fe-41e0-c276-57c17d7c7eb3"
      },
      "source": [
        "combined.head()"
      ],
      "execution_count": null,
      "outputs": [
        {
          "output_type": "execute_result",
          "data": {
            "text/html": [
              "<div>\n",
              "<style scoped>\n",
              "    .dataframe tbody tr th:only-of-type {\n",
              "        vertical-align: middle;\n",
              "    }\n",
              "\n",
              "    .dataframe tbody tr th {\n",
              "        vertical-align: top;\n",
              "    }\n",
              "\n",
              "    .dataframe thead th {\n",
              "        text-align: right;\n",
              "    }\n",
              "</style>\n",
              "<table border=\"1\" class=\"dataframe\">\n",
              "  <thead>\n",
              "    <tr style=\"text-align: right;\">\n",
              "      <th></th>\n",
              "      <th>Pclass</th>\n",
              "      <th>Sex</th>\n",
              "      <th>Age</th>\n",
              "      <th>SibSp</th>\n",
              "      <th>Parch</th>\n",
              "      <th>Ticket</th>\n",
              "      <th>Fare</th>\n",
              "      <th>Cabin</th>\n",
              "      <th>Title_Master</th>\n",
              "      <th>Title_Miss</th>\n",
              "      <th>Title_Mr</th>\n",
              "      <th>Title_Mrs</th>\n",
              "      <th>Title_Officer</th>\n",
              "      <th>Title_Royalty</th>\n",
              "      <th>Embarked_C</th>\n",
              "      <th>Embarked_Q</th>\n",
              "      <th>Embarked_S</th>\n",
              "    </tr>\n",
              "  </thead>\n",
              "  <tbody>\n",
              "    <tr>\n",
              "      <th>0</th>\n",
              "      <td>3</td>\n",
              "      <td>male</td>\n",
              "      <td>22.0</td>\n",
              "      <td>1</td>\n",
              "      <td>0</td>\n",
              "      <td>A/5 21171</td>\n",
              "      <td>7.2500</td>\n",
              "      <td>NaN</td>\n",
              "      <td>0</td>\n",
              "      <td>0</td>\n",
              "      <td>1</td>\n",
              "      <td>0</td>\n",
              "      <td>0</td>\n",
              "      <td>0</td>\n",
              "      <td>0</td>\n",
              "      <td>0</td>\n",
              "      <td>1</td>\n",
              "    </tr>\n",
              "    <tr>\n",
              "      <th>1</th>\n",
              "      <td>1</td>\n",
              "      <td>female</td>\n",
              "      <td>38.0</td>\n",
              "      <td>1</td>\n",
              "      <td>0</td>\n",
              "      <td>PC 17599</td>\n",
              "      <td>71.2833</td>\n",
              "      <td>C85</td>\n",
              "      <td>0</td>\n",
              "      <td>0</td>\n",
              "      <td>0</td>\n",
              "      <td>1</td>\n",
              "      <td>0</td>\n",
              "      <td>0</td>\n",
              "      <td>1</td>\n",
              "      <td>0</td>\n",
              "      <td>0</td>\n",
              "    </tr>\n",
              "    <tr>\n",
              "      <th>2</th>\n",
              "      <td>3</td>\n",
              "      <td>female</td>\n",
              "      <td>26.0</td>\n",
              "      <td>0</td>\n",
              "      <td>0</td>\n",
              "      <td>STON/O2. 3101282</td>\n",
              "      <td>7.9250</td>\n",
              "      <td>NaN</td>\n",
              "      <td>0</td>\n",
              "      <td>1</td>\n",
              "      <td>0</td>\n",
              "      <td>0</td>\n",
              "      <td>0</td>\n",
              "      <td>0</td>\n",
              "      <td>0</td>\n",
              "      <td>0</td>\n",
              "      <td>1</td>\n",
              "    </tr>\n",
              "    <tr>\n",
              "      <th>3</th>\n",
              "      <td>1</td>\n",
              "      <td>female</td>\n",
              "      <td>35.0</td>\n",
              "      <td>1</td>\n",
              "      <td>0</td>\n",
              "      <td>113803</td>\n",
              "      <td>53.1000</td>\n",
              "      <td>C123</td>\n",
              "      <td>0</td>\n",
              "      <td>0</td>\n",
              "      <td>0</td>\n",
              "      <td>1</td>\n",
              "      <td>0</td>\n",
              "      <td>0</td>\n",
              "      <td>0</td>\n",
              "      <td>0</td>\n",
              "      <td>1</td>\n",
              "    </tr>\n",
              "    <tr>\n",
              "      <th>4</th>\n",
              "      <td>3</td>\n",
              "      <td>male</td>\n",
              "      <td>35.0</td>\n",
              "      <td>0</td>\n",
              "      <td>0</td>\n",
              "      <td>373450</td>\n",
              "      <td>8.0500</td>\n",
              "      <td>NaN</td>\n",
              "      <td>0</td>\n",
              "      <td>0</td>\n",
              "      <td>1</td>\n",
              "      <td>0</td>\n",
              "      <td>0</td>\n",
              "      <td>0</td>\n",
              "      <td>0</td>\n",
              "      <td>0</td>\n",
              "      <td>1</td>\n",
              "    </tr>\n",
              "  </tbody>\n",
              "</table>\n",
              "</div>"
            ],
            "text/plain": [
              "   Pclass     Sex   Age  SibSp  Parch            Ticket     Fare Cabin  \\\n",
              "0       3    male  22.0      1      0         A/5 21171   7.2500   NaN   \n",
              "1       1  female  38.0      1      0          PC 17599  71.2833   C85   \n",
              "2       3  female  26.0      0      0  STON/O2. 3101282   7.9250   NaN   \n",
              "3       1  female  35.0      1      0            113803  53.1000  C123   \n",
              "4       3    male  35.0      0      0            373450   8.0500   NaN   \n",
              "\n",
              "   Title_Master  Title_Miss  Title_Mr  Title_Mrs  Title_Officer  \\\n",
              "0             0           0         1          0              0   \n",
              "1             0           0         0          1              0   \n",
              "2             0           1         0          0              0   \n",
              "3             0           0         0          1              0   \n",
              "4             0           0         1          0              0   \n",
              "\n",
              "   Title_Royalty  Embarked_C  Embarked_Q  Embarked_S  \n",
              "0              0           0           0           1  \n",
              "1              0           1           0           0  \n",
              "2              0           0           0           1  \n",
              "3              0           0           0           1  \n",
              "4              0           0           0           1  "
            ]
          },
          "metadata": {
            "tags": []
          },
          "execution_count": 46
        }
      ]
    },
    {
      "cell_type": "markdown",
      "metadata": {
        "id": "ypyOUs7Isd58"
      },
      "source": [
        "### Processing Cabin"
      ]
    },
    {
      "cell_type": "code",
      "metadata": {
        "id": "_wbL1Yx1sd59"
      },
      "source": [
        "train_cabin, test_cabin = set(), set()\n",
        "\n",
        "for c in combined.iloc[:891]['Cabin']:\n",
        "    try:\n",
        "        train_cabin.add(c[0])\n",
        "    except:\n",
        "        train_cabin.add('U')\n",
        "        \n",
        "for c in combined.iloc[891:]['Cabin']:\n",
        "    try:\n",
        "        test_cabin.add(c[0])\n",
        "    except:\n",
        "        test_cabin.add('U')"
      ],
      "execution_count": null,
      "outputs": []
    },
    {
      "cell_type": "code",
      "metadata": {
        "id": "MgAZOBrcsd6B",
        "colab": {
          "base_uri": "https://localhost:8080/"
        },
        "outputId": "b9a4d53e-b74e-4b13-b7f3-e702ed248781"
      },
      "source": [
        "print(train_cabin)"
      ],
      "execution_count": null,
      "outputs": [
        {
          "output_type": "stream",
          "text": [
            "{'D', 'B', 'C', 'T', 'F', 'E', 'G', 'U', 'A'}\n"
          ],
          "name": "stdout"
        }
      ]
    },
    {
      "cell_type": "code",
      "metadata": {
        "id": "i2lii5QNsd6K",
        "colab": {
          "base_uri": "https://localhost:8080/"
        },
        "outputId": "4b10127b-904e-4950-e806-199bc76748f6"
      },
      "source": [
        "print(test_cabin)"
      ],
      "execution_count": null,
      "outputs": [
        {
          "output_type": "stream",
          "text": [
            "{'D', 'B', 'C', 'F', 'E', 'G', 'U', 'A'}\n"
          ],
          "name": "stdout"
        }
      ]
    },
    {
      "cell_type": "markdown",
      "metadata": {
        "id": "6sziWUa7sd6M"
      },
      "source": [
        "We don't have any cabin letter in the test set that is not present in the train set."
      ]
    },
    {
      "cell_type": "code",
      "metadata": {
        "id": "2PsIq_8xsd6M"
      },
      "source": [
        "def process_cabin():\n",
        "    global combined    \n",
        "    # replacing missing cabins with U (for Uknown)\n",
        "    combined.Cabin.fillna('U', inplace=True)\n",
        "    \n",
        "    # mapping each Cabin value with the cabin letter\n",
        "    combined['Cabin'] = combined['Cabin'].map(lambda c: c[0])\n",
        "    \n",
        "    # dummy encoding ...\n",
        "    cabin_dummies = pd.get_dummies(combined['Cabin'], prefix='Cabin')    \n",
        "    combined = pd.concat([combined, cabin_dummies], axis=1)\n",
        "\n",
        "    combined.drop('Cabin', axis=1, inplace=True)\n",
        "    status('cabin')\n",
        "    return combined"
      ],
      "execution_count": null,
      "outputs": []
    },
    {
      "cell_type": "markdown",
      "metadata": {
        "id": "5hLaWRcMsd63"
      },
      "source": [
        "This function replaces NaN values with U (for <i>Unknow</i>). It then maps each Cabin value to the first letter.\n",
        "Then it encodes the cabin values using dummy encoding again."
      ]
    },
    {
      "cell_type": "code",
      "metadata": {
        "id": "JvYL__7-sd64",
        "colab": {
          "base_uri": "https://localhost:8080/"
        },
        "outputId": "5a88c622-d902-4f66-b276-0ddadc216b7e"
      },
      "source": [
        "combined = process_cabin()"
      ],
      "execution_count": null,
      "outputs": [
        {
          "output_type": "stream",
          "text": [
            "Processing cabin : ok\n"
          ],
          "name": "stdout"
        }
      ]
    },
    {
      "cell_type": "markdown",
      "metadata": {
        "id": "d5qTR42psd69"
      },
      "source": [
        "Ok no missing values now."
      ]
    },
    {
      "cell_type": "code",
      "metadata": {
        "id": "1Nl0LJzgsd7E",
        "colab": {
          "base_uri": "https://localhost:8080/"
        },
        "outputId": "32dfb274-3d8b-40cf-95e9-83730e441836"
      },
      "source": [
        "combined.head()"
      ],
      "execution_count": null,
      "outputs": [
        {
          "output_type": "execute_result",
          "data": {
            "text/html": [
              "<div>\n",
              "<style scoped>\n",
              "    .dataframe tbody tr th:only-of-type {\n",
              "        vertical-align: middle;\n",
              "    }\n",
              "\n",
              "    .dataframe tbody tr th {\n",
              "        vertical-align: top;\n",
              "    }\n",
              "\n",
              "    .dataframe thead th {\n",
              "        text-align: right;\n",
              "    }\n",
              "</style>\n",
              "<table border=\"1\" class=\"dataframe\">\n",
              "  <thead>\n",
              "    <tr style=\"text-align: right;\">\n",
              "      <th></th>\n",
              "      <th>Pclass</th>\n",
              "      <th>Sex</th>\n",
              "      <th>Age</th>\n",
              "      <th>SibSp</th>\n",
              "      <th>Parch</th>\n",
              "      <th>Ticket</th>\n",
              "      <th>Fare</th>\n",
              "      <th>Title_Master</th>\n",
              "      <th>Title_Miss</th>\n",
              "      <th>Title_Mr</th>\n",
              "      <th>Title_Mrs</th>\n",
              "      <th>Title_Officer</th>\n",
              "      <th>Title_Royalty</th>\n",
              "      <th>Embarked_C</th>\n",
              "      <th>Embarked_Q</th>\n",
              "      <th>Embarked_S</th>\n",
              "      <th>Cabin_A</th>\n",
              "      <th>Cabin_B</th>\n",
              "      <th>Cabin_C</th>\n",
              "      <th>Cabin_D</th>\n",
              "      <th>Cabin_E</th>\n",
              "      <th>Cabin_F</th>\n",
              "      <th>Cabin_G</th>\n",
              "      <th>Cabin_T</th>\n",
              "      <th>Cabin_U</th>\n",
              "    </tr>\n",
              "  </thead>\n",
              "  <tbody>\n",
              "    <tr>\n",
              "      <th>0</th>\n",
              "      <td>3</td>\n",
              "      <td>male</td>\n",
              "      <td>22.0</td>\n",
              "      <td>1</td>\n",
              "      <td>0</td>\n",
              "      <td>A/5 21171</td>\n",
              "      <td>7.2500</td>\n",
              "      <td>0</td>\n",
              "      <td>0</td>\n",
              "      <td>1</td>\n",
              "      <td>0</td>\n",
              "      <td>0</td>\n",
              "      <td>0</td>\n",
              "      <td>0</td>\n",
              "      <td>0</td>\n",
              "      <td>1</td>\n",
              "      <td>0</td>\n",
              "      <td>0</td>\n",
              "      <td>0</td>\n",
              "      <td>0</td>\n",
              "      <td>0</td>\n",
              "      <td>0</td>\n",
              "      <td>0</td>\n",
              "      <td>0</td>\n",
              "      <td>1</td>\n",
              "    </tr>\n",
              "    <tr>\n",
              "      <th>1</th>\n",
              "      <td>1</td>\n",
              "      <td>female</td>\n",
              "      <td>38.0</td>\n",
              "      <td>1</td>\n",
              "      <td>0</td>\n",
              "      <td>PC 17599</td>\n",
              "      <td>71.2833</td>\n",
              "      <td>0</td>\n",
              "      <td>0</td>\n",
              "      <td>0</td>\n",
              "      <td>1</td>\n",
              "      <td>0</td>\n",
              "      <td>0</td>\n",
              "      <td>1</td>\n",
              "      <td>0</td>\n",
              "      <td>0</td>\n",
              "      <td>0</td>\n",
              "      <td>0</td>\n",
              "      <td>1</td>\n",
              "      <td>0</td>\n",
              "      <td>0</td>\n",
              "      <td>0</td>\n",
              "      <td>0</td>\n",
              "      <td>0</td>\n",
              "      <td>0</td>\n",
              "    </tr>\n",
              "    <tr>\n",
              "      <th>2</th>\n",
              "      <td>3</td>\n",
              "      <td>female</td>\n",
              "      <td>26.0</td>\n",
              "      <td>0</td>\n",
              "      <td>0</td>\n",
              "      <td>STON/O2. 3101282</td>\n",
              "      <td>7.9250</td>\n",
              "      <td>0</td>\n",
              "      <td>1</td>\n",
              "      <td>0</td>\n",
              "      <td>0</td>\n",
              "      <td>0</td>\n",
              "      <td>0</td>\n",
              "      <td>0</td>\n",
              "      <td>0</td>\n",
              "      <td>1</td>\n",
              "      <td>0</td>\n",
              "      <td>0</td>\n",
              "      <td>0</td>\n",
              "      <td>0</td>\n",
              "      <td>0</td>\n",
              "      <td>0</td>\n",
              "      <td>0</td>\n",
              "      <td>0</td>\n",
              "      <td>1</td>\n",
              "    </tr>\n",
              "    <tr>\n",
              "      <th>3</th>\n",
              "      <td>1</td>\n",
              "      <td>female</td>\n",
              "      <td>35.0</td>\n",
              "      <td>1</td>\n",
              "      <td>0</td>\n",
              "      <td>113803</td>\n",
              "      <td>53.1000</td>\n",
              "      <td>0</td>\n",
              "      <td>0</td>\n",
              "      <td>0</td>\n",
              "      <td>1</td>\n",
              "      <td>0</td>\n",
              "      <td>0</td>\n",
              "      <td>0</td>\n",
              "      <td>0</td>\n",
              "      <td>1</td>\n",
              "      <td>0</td>\n",
              "      <td>0</td>\n",
              "      <td>1</td>\n",
              "      <td>0</td>\n",
              "      <td>0</td>\n",
              "      <td>0</td>\n",
              "      <td>0</td>\n",
              "      <td>0</td>\n",
              "      <td>0</td>\n",
              "    </tr>\n",
              "    <tr>\n",
              "      <th>4</th>\n",
              "      <td>3</td>\n",
              "      <td>male</td>\n",
              "      <td>35.0</td>\n",
              "      <td>0</td>\n",
              "      <td>0</td>\n",
              "      <td>373450</td>\n",
              "      <td>8.0500</td>\n",
              "      <td>0</td>\n",
              "      <td>0</td>\n",
              "      <td>1</td>\n",
              "      <td>0</td>\n",
              "      <td>0</td>\n",
              "      <td>0</td>\n",
              "      <td>0</td>\n",
              "      <td>0</td>\n",
              "      <td>1</td>\n",
              "      <td>0</td>\n",
              "      <td>0</td>\n",
              "      <td>0</td>\n",
              "      <td>0</td>\n",
              "      <td>0</td>\n",
              "      <td>0</td>\n",
              "      <td>0</td>\n",
              "      <td>0</td>\n",
              "      <td>1</td>\n",
              "    </tr>\n",
              "  </tbody>\n",
              "</table>\n",
              "</div>"
            ],
            "text/plain": [
              "   Pclass     Sex   Age  SibSp  Parch            Ticket     Fare  \\\n",
              "0       3    male  22.0      1      0         A/5 21171   7.2500   \n",
              "1       1  female  38.0      1      0          PC 17599  71.2833   \n",
              "2       3  female  26.0      0      0  STON/O2. 3101282   7.9250   \n",
              "3       1  female  35.0      1      0            113803  53.1000   \n",
              "4       3    male  35.0      0      0            373450   8.0500   \n",
              "\n",
              "   Title_Master  Title_Miss  Title_Mr  Title_Mrs  Title_Officer  \\\n",
              "0             0           0         1          0              0   \n",
              "1             0           0         0          1              0   \n",
              "2             0           1         0          0              0   \n",
              "3             0           0         0          1              0   \n",
              "4             0           0         1          0              0   \n",
              "\n",
              "   Title_Royalty  Embarked_C  Embarked_Q  Embarked_S  Cabin_A  Cabin_B  \\\n",
              "0              0           0           0           1        0        0   \n",
              "1              0           1           0           0        0        0   \n",
              "2              0           0           0           1        0        0   \n",
              "3              0           0           0           1        0        0   \n",
              "4              0           0           0           1        0        0   \n",
              "\n",
              "   Cabin_C  Cabin_D  Cabin_E  Cabin_F  Cabin_G  Cabin_T  Cabin_U  \n",
              "0        0        0        0        0        0        0        1  \n",
              "1        1        0        0        0        0        0        0  \n",
              "2        0        0        0        0        0        0        1  \n",
              "3        1        0        0        0        0        0        0  \n",
              "4        0        0        0        0        0        0        1  "
            ]
          },
          "metadata": {
            "tags": []
          },
          "execution_count": 52
        }
      ]
    },
    {
      "cell_type": "markdown",
      "metadata": {
        "id": "HbvUS335sd7R"
      },
      "source": [
        "### Processing Sex"
      ]
    },
    {
      "cell_type": "code",
      "metadata": {
        "id": "xpJsS-Ydsd7S"
      },
      "source": [
        "def process_sex():\n",
        "    global combined\n",
        "    # mapping string values to numerical one \n",
        "    combined['Sex'] = combined['Sex'].map({'male':1, 'female':0})\n",
        "    status('Sex')\n",
        "    return combined"
      ],
      "execution_count": null,
      "outputs": []
    },
    {
      "cell_type": "markdown",
      "metadata": {
        "id": "1fnQRW_2sd7i"
      },
      "source": [
        "This function maps the string values male and female to 1 and 0 respectively. "
      ]
    },
    {
      "cell_type": "code",
      "metadata": {
        "id": "jFEFptDZsd7j",
        "colab": {
          "base_uri": "https://localhost:8080/"
        },
        "outputId": "0c75077d-84ae-4dcb-e494-b5a6c6a59630"
      },
      "source": [
        "combined = process_sex()"
      ],
      "execution_count": null,
      "outputs": [
        {
          "output_type": "stream",
          "text": [
            "Processing Sex : ok\n"
          ],
          "name": "stdout"
        }
      ]
    },
    {
      "cell_type": "markdown",
      "metadata": {
        "id": "jch8Eduvsd7w"
      },
      "source": [
        "### Processing Pclass"
      ]
    },
    {
      "cell_type": "code",
      "metadata": {
        "id": "EH_rdRG6sd7z"
      },
      "source": [
        "def process_pclass():\n",
        "    \n",
        "    global combined\n",
        "    # encoding into 3 categories:\n",
        "    pclass_dummies = pd.get_dummies(combined['Pclass'], prefix=\"Pclass\")\n",
        "    \n",
        "    # adding dummy variable\n",
        "    combined = pd.concat([combined, pclass_dummies],axis=1)\n",
        "    \n",
        "    # removing \"Pclass\"\n",
        "    combined.drop('Pclass',axis=1,inplace=True)\n",
        "    \n",
        "    status('Pclass')\n",
        "    return combined"
      ],
      "execution_count": null,
      "outputs": []
    },
    {
      "cell_type": "markdown",
      "metadata": {
        "id": "pNC-mzZQsd8I"
      },
      "source": [
        "This function encodes the values of Pclass (1,2,3) using a dummy encoding."
      ]
    },
    {
      "cell_type": "code",
      "metadata": {
        "id": "J9pCU0Bcsd8I",
        "colab": {
          "base_uri": "https://localhost:8080/"
        },
        "outputId": "896d9149-21a3-47a5-e365-d1dba1c9223d"
      },
      "source": [
        "combined = process_pclass()"
      ],
      "execution_count": null,
      "outputs": [
        {
          "output_type": "stream",
          "text": [
            "Processing Pclass : ok\n"
          ],
          "name": "stdout"
        }
      ]
    },
    {
      "cell_type": "code",
      "metadata": {
        "id": "q5QuxkbUgL4S",
        "colab": {
          "base_uri": "https://localhost:8080/"
        },
        "outputId": "17930225-decc-4384-a29e-8145609d15d8"
      },
      "source": [
        "combined.head()"
      ],
      "execution_count": null,
      "outputs": [
        {
          "output_type": "execute_result",
          "data": {
            "text/html": [
              "<div>\n",
              "<style scoped>\n",
              "    .dataframe tbody tr th:only-of-type {\n",
              "        vertical-align: middle;\n",
              "    }\n",
              "\n",
              "    .dataframe tbody tr th {\n",
              "        vertical-align: top;\n",
              "    }\n",
              "\n",
              "    .dataframe thead th {\n",
              "        text-align: right;\n",
              "    }\n",
              "</style>\n",
              "<table border=\"1\" class=\"dataframe\">\n",
              "  <thead>\n",
              "    <tr style=\"text-align: right;\">\n",
              "      <th></th>\n",
              "      <th>Sex</th>\n",
              "      <th>Age</th>\n",
              "      <th>SibSp</th>\n",
              "      <th>Parch</th>\n",
              "      <th>Ticket</th>\n",
              "      <th>Fare</th>\n",
              "      <th>Title_Master</th>\n",
              "      <th>Title_Miss</th>\n",
              "      <th>Title_Mr</th>\n",
              "      <th>Title_Mrs</th>\n",
              "      <th>Title_Officer</th>\n",
              "      <th>Title_Royalty</th>\n",
              "      <th>Embarked_C</th>\n",
              "      <th>Embarked_Q</th>\n",
              "      <th>Embarked_S</th>\n",
              "      <th>Cabin_A</th>\n",
              "      <th>Cabin_B</th>\n",
              "      <th>Cabin_C</th>\n",
              "      <th>Cabin_D</th>\n",
              "      <th>Cabin_E</th>\n",
              "      <th>Cabin_F</th>\n",
              "      <th>Cabin_G</th>\n",
              "      <th>Cabin_T</th>\n",
              "      <th>Cabin_U</th>\n",
              "      <th>Pclass_1</th>\n",
              "      <th>Pclass_2</th>\n",
              "      <th>Pclass_3</th>\n",
              "    </tr>\n",
              "  </thead>\n",
              "  <tbody>\n",
              "    <tr>\n",
              "      <th>0</th>\n",
              "      <td>1</td>\n",
              "      <td>22.0</td>\n",
              "      <td>1</td>\n",
              "      <td>0</td>\n",
              "      <td>A/5 21171</td>\n",
              "      <td>7.2500</td>\n",
              "      <td>0</td>\n",
              "      <td>0</td>\n",
              "      <td>1</td>\n",
              "      <td>0</td>\n",
              "      <td>0</td>\n",
              "      <td>0</td>\n",
              "      <td>0</td>\n",
              "      <td>0</td>\n",
              "      <td>1</td>\n",
              "      <td>0</td>\n",
              "      <td>0</td>\n",
              "      <td>0</td>\n",
              "      <td>0</td>\n",
              "      <td>0</td>\n",
              "      <td>0</td>\n",
              "      <td>0</td>\n",
              "      <td>0</td>\n",
              "      <td>1</td>\n",
              "      <td>0</td>\n",
              "      <td>0</td>\n",
              "      <td>1</td>\n",
              "    </tr>\n",
              "    <tr>\n",
              "      <th>1</th>\n",
              "      <td>0</td>\n",
              "      <td>38.0</td>\n",
              "      <td>1</td>\n",
              "      <td>0</td>\n",
              "      <td>PC 17599</td>\n",
              "      <td>71.2833</td>\n",
              "      <td>0</td>\n",
              "      <td>0</td>\n",
              "      <td>0</td>\n",
              "      <td>1</td>\n",
              "      <td>0</td>\n",
              "      <td>0</td>\n",
              "      <td>1</td>\n",
              "      <td>0</td>\n",
              "      <td>0</td>\n",
              "      <td>0</td>\n",
              "      <td>0</td>\n",
              "      <td>1</td>\n",
              "      <td>0</td>\n",
              "      <td>0</td>\n",
              "      <td>0</td>\n",
              "      <td>0</td>\n",
              "      <td>0</td>\n",
              "      <td>0</td>\n",
              "      <td>1</td>\n",
              "      <td>0</td>\n",
              "      <td>0</td>\n",
              "    </tr>\n",
              "    <tr>\n",
              "      <th>2</th>\n",
              "      <td>0</td>\n",
              "      <td>26.0</td>\n",
              "      <td>0</td>\n",
              "      <td>0</td>\n",
              "      <td>STON/O2. 3101282</td>\n",
              "      <td>7.9250</td>\n",
              "      <td>0</td>\n",
              "      <td>1</td>\n",
              "      <td>0</td>\n",
              "      <td>0</td>\n",
              "      <td>0</td>\n",
              "      <td>0</td>\n",
              "      <td>0</td>\n",
              "      <td>0</td>\n",
              "      <td>1</td>\n",
              "      <td>0</td>\n",
              "      <td>0</td>\n",
              "      <td>0</td>\n",
              "      <td>0</td>\n",
              "      <td>0</td>\n",
              "      <td>0</td>\n",
              "      <td>0</td>\n",
              "      <td>0</td>\n",
              "      <td>1</td>\n",
              "      <td>0</td>\n",
              "      <td>0</td>\n",
              "      <td>1</td>\n",
              "    </tr>\n",
              "    <tr>\n",
              "      <th>3</th>\n",
              "      <td>0</td>\n",
              "      <td>35.0</td>\n",
              "      <td>1</td>\n",
              "      <td>0</td>\n",
              "      <td>113803</td>\n",
              "      <td>53.1000</td>\n",
              "      <td>0</td>\n",
              "      <td>0</td>\n",
              "      <td>0</td>\n",
              "      <td>1</td>\n",
              "      <td>0</td>\n",
              "      <td>0</td>\n",
              "      <td>0</td>\n",
              "      <td>0</td>\n",
              "      <td>1</td>\n",
              "      <td>0</td>\n",
              "      <td>0</td>\n",
              "      <td>1</td>\n",
              "      <td>0</td>\n",
              "      <td>0</td>\n",
              "      <td>0</td>\n",
              "      <td>0</td>\n",
              "      <td>0</td>\n",
              "      <td>0</td>\n",
              "      <td>1</td>\n",
              "      <td>0</td>\n",
              "      <td>0</td>\n",
              "    </tr>\n",
              "    <tr>\n",
              "      <th>4</th>\n",
              "      <td>1</td>\n",
              "      <td>35.0</td>\n",
              "      <td>0</td>\n",
              "      <td>0</td>\n",
              "      <td>373450</td>\n",
              "      <td>8.0500</td>\n",
              "      <td>0</td>\n",
              "      <td>0</td>\n",
              "      <td>1</td>\n",
              "      <td>0</td>\n",
              "      <td>0</td>\n",
              "      <td>0</td>\n",
              "      <td>0</td>\n",
              "      <td>0</td>\n",
              "      <td>1</td>\n",
              "      <td>0</td>\n",
              "      <td>0</td>\n",
              "      <td>0</td>\n",
              "      <td>0</td>\n",
              "      <td>0</td>\n",
              "      <td>0</td>\n",
              "      <td>0</td>\n",
              "      <td>0</td>\n",
              "      <td>1</td>\n",
              "      <td>0</td>\n",
              "      <td>0</td>\n",
              "      <td>1</td>\n",
              "    </tr>\n",
              "  </tbody>\n",
              "</table>\n",
              "</div>"
            ],
            "text/plain": [
              "   Sex   Age  SibSp  Parch            Ticket     Fare  Title_Master  \\\n",
              "0    1  22.0      1      0         A/5 21171   7.2500             0   \n",
              "1    0  38.0      1      0          PC 17599  71.2833             0   \n",
              "2    0  26.0      0      0  STON/O2. 3101282   7.9250             0   \n",
              "3    0  35.0      1      0            113803  53.1000             0   \n",
              "4    1  35.0      0      0            373450   8.0500             0   \n",
              "\n",
              "   Title_Miss  Title_Mr  Title_Mrs  Title_Officer  Title_Royalty  Embarked_C  \\\n",
              "0           0         1          0              0              0           0   \n",
              "1           0         0          1              0              0           1   \n",
              "2           1         0          0              0              0           0   \n",
              "3           0         0          1              0              0           0   \n",
              "4           0         1          0              0              0           0   \n",
              "\n",
              "   Embarked_Q  Embarked_S  Cabin_A  Cabin_B  Cabin_C  Cabin_D  Cabin_E  \\\n",
              "0           0           1        0        0        0        0        0   \n",
              "1           0           0        0        0        1        0        0   \n",
              "2           0           1        0        0        0        0        0   \n",
              "3           0           1        0        0        1        0        0   \n",
              "4           0           1        0        0        0        0        0   \n",
              "\n",
              "   Cabin_F  Cabin_G  Cabin_T  Cabin_U  Pclass_1  Pclass_2  Pclass_3  \n",
              "0        0        0        0        1         0         0         1  \n",
              "1        0        0        0        0         1         0         0  \n",
              "2        0        0        0        1         0         0         1  \n",
              "3        0        0        0        0         1         0         0  \n",
              "4        0        0        0        1         0         0         1  "
            ]
          },
          "metadata": {
            "tags": []
          },
          "execution_count": 57
        }
      ]
    },
    {
      "cell_type": "markdown",
      "metadata": {
        "id": "LGqCNiNxsd8T"
      },
      "source": [
        "### Processing Ticket"
      ]
    },
    {
      "cell_type": "markdown",
      "metadata": {
        "id": "se1BP4J3sd8U"
      },
      "source": [
        "Let's first see how the different ticket prefixes we have in our dataset"
      ]
    },
    {
      "cell_type": "code",
      "metadata": {
        "id": "olH0cODQsd8U"
      },
      "source": [
        "def cleanTicket(ticket):\n",
        "    ticket = ticket.replace('.', '')\n",
        "    ticket = ticket.replace('/', '')\n",
        "    ticket = ticket.split()\n",
        "    ticket = map(lambda t : t.strip(), ticket)\n",
        "    ticket = list(filter(lambda t : not t.isdigit(), ticket))\n",
        "    if len(ticket) > 0:\n",
        "        return ticket[0]\n",
        "    else: \n",
        "        return 'XXX'"
      ],
      "execution_count": null,
      "outputs": []
    },
    {
      "cell_type": "code",
      "metadata": {
        "id": "D5v3I8hNsd8X"
      },
      "source": [
        "tickets = set()\n",
        "for t in combined['Ticket']:\n",
        "    tickets.add(cleanTicket(t))"
      ],
      "execution_count": null,
      "outputs": []
    },
    {
      "cell_type": "code",
      "metadata": {
        "id": "nzrGovNCsd8Z",
        "colab": {
          "base_uri": "https://localhost:8080/"
        },
        "outputId": "0da526cc-8de1-439c-e905-f11baeb40d63"
      },
      "source": [
        "print(len(tickets))"
      ],
      "execution_count": null,
      "outputs": [
        {
          "output_type": "stream",
          "text": [
            "37\n"
          ],
          "name": "stdout"
        }
      ]
    },
    {
      "cell_type": "code",
      "metadata": {
        "id": "d5qOocZXsd8d"
      },
      "source": [
        "def process_ticket():\n",
        "    \n",
        "    global combined\n",
        "    \n",
        "    # a function that extracts each prefix of the ticket, returns 'XXX' if no prefix (i.e the ticket is a digit)\n",
        "    def cleanTicket(ticket):\n",
        "        ticket = ticket.replace('.','')\n",
        "        ticket = ticket.replace('/','')\n",
        "        ticket = ticket.split()\n",
        "        ticket = map(lambda t : t.strip(), ticket)\n",
        "        ticket = list(filter(lambda t : not t.isdigit(), ticket))\n",
        "        if len(ticket) > 0:\n",
        "            return ticket[0]\n",
        "        else: \n",
        "            return 'XXX'\n",
        "    \n",
        "\n",
        "    # Extracting dummy variables from tickets:\n",
        "\n",
        "    combined['Ticket'] = combined['Ticket'].map(cleanTicket)\n",
        "    tickets_dummies = pd.get_dummies(combined['Ticket'], prefix='Ticket')\n",
        "    combined = pd.concat([combined, tickets_dummies], axis=1)\n",
        "    combined.drop('Ticket', inplace=True, axis=1)\n",
        "\n",
        "    status('Ticket')\n",
        "    return combined"
      ],
      "execution_count": null,
      "outputs": []
    },
    {
      "cell_type": "code",
      "metadata": {
        "id": "bBydclG7sd8i",
        "colab": {
          "base_uri": "https://localhost:8080/"
        },
        "outputId": "42298770-d3e2-4b68-ed44-95022f9f218b"
      },
      "source": [
        "combined = process_ticket()"
      ],
      "execution_count": null,
      "outputs": [
        {
          "output_type": "stream",
          "text": [
            "Processing Ticket : ok\n"
          ],
          "name": "stdout"
        }
      ]
    },
    {
      "cell_type": "code",
      "metadata": {
        "id": "Yo1D3vGwinMi",
        "colab": {
          "base_uri": "https://localhost:8080/"
        },
        "outputId": "c41b55b7-e6e2-430e-9fde-e4125072326e"
      },
      "source": [
        "combined.head()"
      ],
      "execution_count": null,
      "outputs": [
        {
          "output_type": "execute_result",
          "data": {
            "text/html": [
              "<div>\n",
              "<style scoped>\n",
              "    .dataframe tbody tr th:only-of-type {\n",
              "        vertical-align: middle;\n",
              "    }\n",
              "\n",
              "    .dataframe tbody tr th {\n",
              "        vertical-align: top;\n",
              "    }\n",
              "\n",
              "    .dataframe thead th {\n",
              "        text-align: right;\n",
              "    }\n",
              "</style>\n",
              "<table border=\"1\" class=\"dataframe\">\n",
              "  <thead>\n",
              "    <tr style=\"text-align: right;\">\n",
              "      <th></th>\n",
              "      <th>Sex</th>\n",
              "      <th>Age</th>\n",
              "      <th>SibSp</th>\n",
              "      <th>Parch</th>\n",
              "      <th>Fare</th>\n",
              "      <th>Title_Master</th>\n",
              "      <th>Title_Miss</th>\n",
              "      <th>Title_Mr</th>\n",
              "      <th>Title_Mrs</th>\n",
              "      <th>Title_Officer</th>\n",
              "      <th>Title_Royalty</th>\n",
              "      <th>Embarked_C</th>\n",
              "      <th>Embarked_Q</th>\n",
              "      <th>Embarked_S</th>\n",
              "      <th>Cabin_A</th>\n",
              "      <th>Cabin_B</th>\n",
              "      <th>Cabin_C</th>\n",
              "      <th>Cabin_D</th>\n",
              "      <th>Cabin_E</th>\n",
              "      <th>Cabin_F</th>\n",
              "      <th>Cabin_G</th>\n",
              "      <th>Cabin_T</th>\n",
              "      <th>Cabin_U</th>\n",
              "      <th>Pclass_1</th>\n",
              "      <th>Pclass_2</th>\n",
              "      <th>Pclass_3</th>\n",
              "      <th>Ticket_A</th>\n",
              "      <th>Ticket_A4</th>\n",
              "      <th>Ticket_A5</th>\n",
              "      <th>Ticket_AQ3</th>\n",
              "      <th>Ticket_AQ4</th>\n",
              "      <th>Ticket_AS</th>\n",
              "      <th>Ticket_C</th>\n",
              "      <th>Ticket_CA</th>\n",
              "      <th>Ticket_CASOTON</th>\n",
              "      <th>Ticket_FC</th>\n",
              "      <th>Ticket_FCC</th>\n",
              "      <th>Ticket_Fa</th>\n",
              "      <th>Ticket_LINE</th>\n",
              "      <th>Ticket_LP</th>\n",
              "      <th>Ticket_PC</th>\n",
              "      <th>Ticket_PP</th>\n",
              "      <th>Ticket_PPP</th>\n",
              "      <th>Ticket_SC</th>\n",
              "      <th>Ticket_SCA3</th>\n",
              "      <th>Ticket_SCA4</th>\n",
              "      <th>Ticket_SCAH</th>\n",
              "      <th>Ticket_SCOW</th>\n",
              "      <th>Ticket_SCPARIS</th>\n",
              "      <th>Ticket_SCParis</th>\n",
              "      <th>Ticket_SOC</th>\n",
              "      <th>Ticket_SOP</th>\n",
              "      <th>Ticket_SOPP</th>\n",
              "      <th>Ticket_SOTONO2</th>\n",
              "      <th>Ticket_SOTONOQ</th>\n",
              "      <th>Ticket_SP</th>\n",
              "      <th>Ticket_STONO</th>\n",
              "      <th>Ticket_STONO2</th>\n",
              "      <th>Ticket_STONOQ</th>\n",
              "      <th>Ticket_SWPP</th>\n",
              "      <th>Ticket_WC</th>\n",
              "      <th>Ticket_WEP</th>\n",
              "      <th>Ticket_XXX</th>\n",
              "    </tr>\n",
              "  </thead>\n",
              "  <tbody>\n",
              "    <tr>\n",
              "      <th>0</th>\n",
              "      <td>1</td>\n",
              "      <td>22.0</td>\n",
              "      <td>1</td>\n",
              "      <td>0</td>\n",
              "      <td>7.2500</td>\n",
              "      <td>0</td>\n",
              "      <td>0</td>\n",
              "      <td>1</td>\n",
              "      <td>0</td>\n",
              "      <td>0</td>\n",
              "      <td>0</td>\n",
              "      <td>0</td>\n",
              "      <td>0</td>\n",
              "      <td>1</td>\n",
              "      <td>0</td>\n",
              "      <td>0</td>\n",
              "      <td>0</td>\n",
              "      <td>0</td>\n",
              "      <td>0</td>\n",
              "      <td>0</td>\n",
              "      <td>0</td>\n",
              "      <td>0</td>\n",
              "      <td>1</td>\n",
              "      <td>0</td>\n",
              "      <td>0</td>\n",
              "      <td>1</td>\n",
              "      <td>0</td>\n",
              "      <td>0</td>\n",
              "      <td>1</td>\n",
              "      <td>0</td>\n",
              "      <td>0</td>\n",
              "      <td>0</td>\n",
              "      <td>0</td>\n",
              "      <td>0</td>\n",
              "      <td>0</td>\n",
              "      <td>0</td>\n",
              "      <td>0</td>\n",
              "      <td>0</td>\n",
              "      <td>0</td>\n",
              "      <td>0</td>\n",
              "      <td>0</td>\n",
              "      <td>0</td>\n",
              "      <td>0</td>\n",
              "      <td>0</td>\n",
              "      <td>0</td>\n",
              "      <td>0</td>\n",
              "      <td>0</td>\n",
              "      <td>0</td>\n",
              "      <td>0</td>\n",
              "      <td>0</td>\n",
              "      <td>0</td>\n",
              "      <td>0</td>\n",
              "      <td>0</td>\n",
              "      <td>0</td>\n",
              "      <td>0</td>\n",
              "      <td>0</td>\n",
              "      <td>0</td>\n",
              "      <td>0</td>\n",
              "      <td>0</td>\n",
              "      <td>0</td>\n",
              "      <td>0</td>\n",
              "      <td>0</td>\n",
              "      <td>0</td>\n",
              "    </tr>\n",
              "    <tr>\n",
              "      <th>1</th>\n",
              "      <td>0</td>\n",
              "      <td>38.0</td>\n",
              "      <td>1</td>\n",
              "      <td>0</td>\n",
              "      <td>71.2833</td>\n",
              "      <td>0</td>\n",
              "      <td>0</td>\n",
              "      <td>0</td>\n",
              "      <td>1</td>\n",
              "      <td>0</td>\n",
              "      <td>0</td>\n",
              "      <td>1</td>\n",
              "      <td>0</td>\n",
              "      <td>0</td>\n",
              "      <td>0</td>\n",
              "      <td>0</td>\n",
              "      <td>1</td>\n",
              "      <td>0</td>\n",
              "      <td>0</td>\n",
              "      <td>0</td>\n",
              "      <td>0</td>\n",
              "      <td>0</td>\n",
              "      <td>0</td>\n",
              "      <td>1</td>\n",
              "      <td>0</td>\n",
              "      <td>0</td>\n",
              "      <td>0</td>\n",
              "      <td>0</td>\n",
              "      <td>0</td>\n",
              "      <td>0</td>\n",
              "      <td>0</td>\n",
              "      <td>0</td>\n",
              "      <td>0</td>\n",
              "      <td>0</td>\n",
              "      <td>0</td>\n",
              "      <td>0</td>\n",
              "      <td>0</td>\n",
              "      <td>0</td>\n",
              "      <td>0</td>\n",
              "      <td>0</td>\n",
              "      <td>1</td>\n",
              "      <td>0</td>\n",
              "      <td>0</td>\n",
              "      <td>0</td>\n",
              "      <td>0</td>\n",
              "      <td>0</td>\n",
              "      <td>0</td>\n",
              "      <td>0</td>\n",
              "      <td>0</td>\n",
              "      <td>0</td>\n",
              "      <td>0</td>\n",
              "      <td>0</td>\n",
              "      <td>0</td>\n",
              "      <td>0</td>\n",
              "      <td>0</td>\n",
              "      <td>0</td>\n",
              "      <td>0</td>\n",
              "      <td>0</td>\n",
              "      <td>0</td>\n",
              "      <td>0</td>\n",
              "      <td>0</td>\n",
              "      <td>0</td>\n",
              "      <td>0</td>\n",
              "    </tr>\n",
              "    <tr>\n",
              "      <th>2</th>\n",
              "      <td>0</td>\n",
              "      <td>26.0</td>\n",
              "      <td>0</td>\n",
              "      <td>0</td>\n",
              "      <td>7.9250</td>\n",
              "      <td>0</td>\n",
              "      <td>1</td>\n",
              "      <td>0</td>\n",
              "      <td>0</td>\n",
              "      <td>0</td>\n",
              "      <td>0</td>\n",
              "      <td>0</td>\n",
              "      <td>0</td>\n",
              "      <td>1</td>\n",
              "      <td>0</td>\n",
              "      <td>0</td>\n",
              "      <td>0</td>\n",
              "      <td>0</td>\n",
              "      <td>0</td>\n",
              "      <td>0</td>\n",
              "      <td>0</td>\n",
              "      <td>0</td>\n",
              "      <td>1</td>\n",
              "      <td>0</td>\n",
              "      <td>0</td>\n",
              "      <td>1</td>\n",
              "      <td>0</td>\n",
              "      <td>0</td>\n",
              "      <td>0</td>\n",
              "      <td>0</td>\n",
              "      <td>0</td>\n",
              "      <td>0</td>\n",
              "      <td>0</td>\n",
              "      <td>0</td>\n",
              "      <td>0</td>\n",
              "      <td>0</td>\n",
              "      <td>0</td>\n",
              "      <td>0</td>\n",
              "      <td>0</td>\n",
              "      <td>0</td>\n",
              "      <td>0</td>\n",
              "      <td>0</td>\n",
              "      <td>0</td>\n",
              "      <td>0</td>\n",
              "      <td>0</td>\n",
              "      <td>0</td>\n",
              "      <td>0</td>\n",
              "      <td>0</td>\n",
              "      <td>0</td>\n",
              "      <td>0</td>\n",
              "      <td>0</td>\n",
              "      <td>0</td>\n",
              "      <td>0</td>\n",
              "      <td>0</td>\n",
              "      <td>0</td>\n",
              "      <td>0</td>\n",
              "      <td>0</td>\n",
              "      <td>1</td>\n",
              "      <td>0</td>\n",
              "      <td>0</td>\n",
              "      <td>0</td>\n",
              "      <td>0</td>\n",
              "      <td>0</td>\n",
              "    </tr>\n",
              "    <tr>\n",
              "      <th>3</th>\n",
              "      <td>0</td>\n",
              "      <td>35.0</td>\n",
              "      <td>1</td>\n",
              "      <td>0</td>\n",
              "      <td>53.1000</td>\n",
              "      <td>0</td>\n",
              "      <td>0</td>\n",
              "      <td>0</td>\n",
              "      <td>1</td>\n",
              "      <td>0</td>\n",
              "      <td>0</td>\n",
              "      <td>0</td>\n",
              "      <td>0</td>\n",
              "      <td>1</td>\n",
              "      <td>0</td>\n",
              "      <td>0</td>\n",
              "      <td>1</td>\n",
              "      <td>0</td>\n",
              "      <td>0</td>\n",
              "      <td>0</td>\n",
              "      <td>0</td>\n",
              "      <td>0</td>\n",
              "      <td>0</td>\n",
              "      <td>1</td>\n",
              "      <td>0</td>\n",
              "      <td>0</td>\n",
              "      <td>0</td>\n",
              "      <td>0</td>\n",
              "      <td>0</td>\n",
              "      <td>0</td>\n",
              "      <td>0</td>\n",
              "      <td>0</td>\n",
              "      <td>0</td>\n",
              "      <td>0</td>\n",
              "      <td>0</td>\n",
              "      <td>0</td>\n",
              "      <td>0</td>\n",
              "      <td>0</td>\n",
              "      <td>0</td>\n",
              "      <td>0</td>\n",
              "      <td>0</td>\n",
              "      <td>0</td>\n",
              "      <td>0</td>\n",
              "      <td>0</td>\n",
              "      <td>0</td>\n",
              "      <td>0</td>\n",
              "      <td>0</td>\n",
              "      <td>0</td>\n",
              "      <td>0</td>\n",
              "      <td>0</td>\n",
              "      <td>0</td>\n",
              "      <td>0</td>\n",
              "      <td>0</td>\n",
              "      <td>0</td>\n",
              "      <td>0</td>\n",
              "      <td>0</td>\n",
              "      <td>0</td>\n",
              "      <td>0</td>\n",
              "      <td>0</td>\n",
              "      <td>0</td>\n",
              "      <td>0</td>\n",
              "      <td>0</td>\n",
              "      <td>1</td>\n",
              "    </tr>\n",
              "    <tr>\n",
              "      <th>4</th>\n",
              "      <td>1</td>\n",
              "      <td>35.0</td>\n",
              "      <td>0</td>\n",
              "      <td>0</td>\n",
              "      <td>8.0500</td>\n",
              "      <td>0</td>\n",
              "      <td>0</td>\n",
              "      <td>1</td>\n",
              "      <td>0</td>\n",
              "      <td>0</td>\n",
              "      <td>0</td>\n",
              "      <td>0</td>\n",
              "      <td>0</td>\n",
              "      <td>1</td>\n",
              "      <td>0</td>\n",
              "      <td>0</td>\n",
              "      <td>0</td>\n",
              "      <td>0</td>\n",
              "      <td>0</td>\n",
              "      <td>0</td>\n",
              "      <td>0</td>\n",
              "      <td>0</td>\n",
              "      <td>1</td>\n",
              "      <td>0</td>\n",
              "      <td>0</td>\n",
              "      <td>1</td>\n",
              "      <td>0</td>\n",
              "      <td>0</td>\n",
              "      <td>0</td>\n",
              "      <td>0</td>\n",
              "      <td>0</td>\n",
              "      <td>0</td>\n",
              "      <td>0</td>\n",
              "      <td>0</td>\n",
              "      <td>0</td>\n",
              "      <td>0</td>\n",
              "      <td>0</td>\n",
              "      <td>0</td>\n",
              "      <td>0</td>\n",
              "      <td>0</td>\n",
              "      <td>0</td>\n",
              "      <td>0</td>\n",
              "      <td>0</td>\n",
              "      <td>0</td>\n",
              "      <td>0</td>\n",
              "      <td>0</td>\n",
              "      <td>0</td>\n",
              "      <td>0</td>\n",
              "      <td>0</td>\n",
              "      <td>0</td>\n",
              "      <td>0</td>\n",
              "      <td>0</td>\n",
              "      <td>0</td>\n",
              "      <td>0</td>\n",
              "      <td>0</td>\n",
              "      <td>0</td>\n",
              "      <td>0</td>\n",
              "      <td>0</td>\n",
              "      <td>0</td>\n",
              "      <td>0</td>\n",
              "      <td>0</td>\n",
              "      <td>0</td>\n",
              "      <td>1</td>\n",
              "    </tr>\n",
              "  </tbody>\n",
              "</table>\n",
              "</div>"
            ],
            "text/plain": [
              "   Sex   Age  SibSp  Parch     Fare  Title_Master  Title_Miss  Title_Mr  \\\n",
              "0    1  22.0      1      0   7.2500             0           0         1   \n",
              "1    0  38.0      1      0  71.2833             0           0         0   \n",
              "2    0  26.0      0      0   7.9250             0           1         0   \n",
              "3    0  35.0      1      0  53.1000             0           0         0   \n",
              "4    1  35.0      0      0   8.0500             0           0         1   \n",
              "\n",
              "   Title_Mrs  Title_Officer  Title_Royalty  Embarked_C  Embarked_Q  \\\n",
              "0          0              0              0           0           0   \n",
              "1          1              0              0           1           0   \n",
              "2          0              0              0           0           0   \n",
              "3          1              0              0           0           0   \n",
              "4          0              0              0           0           0   \n",
              "\n",
              "   Embarked_S  Cabin_A  Cabin_B  Cabin_C  Cabin_D  Cabin_E  Cabin_F  Cabin_G  \\\n",
              "0           1        0        0        0        0        0        0        0   \n",
              "1           0        0        0        1        0        0        0        0   \n",
              "2           1        0        0        0        0        0        0        0   \n",
              "3           1        0        0        1        0        0        0        0   \n",
              "4           1        0        0        0        0        0        0        0   \n",
              "\n",
              "   Cabin_T  Cabin_U  Pclass_1  Pclass_2  Pclass_3  Ticket_A  Ticket_A4  \\\n",
              "0        0        1         0         0         1         0          0   \n",
              "1        0        0         1         0         0         0          0   \n",
              "2        0        1         0         0         1         0          0   \n",
              "3        0        0         1         0         0         0          0   \n",
              "4        0        1         0         0         1         0          0   \n",
              "\n",
              "   Ticket_A5  Ticket_AQ3  Ticket_AQ4  Ticket_AS  Ticket_C  Ticket_CA  \\\n",
              "0          1           0           0          0         0          0   \n",
              "1          0           0           0          0         0          0   \n",
              "2          0           0           0          0         0          0   \n",
              "3          0           0           0          0         0          0   \n",
              "4          0           0           0          0         0          0   \n",
              "\n",
              "   Ticket_CASOTON  Ticket_FC  Ticket_FCC  Ticket_Fa  Ticket_LINE  Ticket_LP  \\\n",
              "0               0          0           0          0            0          0   \n",
              "1               0          0           0          0            0          0   \n",
              "2               0          0           0          0            0          0   \n",
              "3               0          0           0          0            0          0   \n",
              "4               0          0           0          0            0          0   \n",
              "\n",
              "   Ticket_PC  Ticket_PP  Ticket_PPP  Ticket_SC  Ticket_SCA3  Ticket_SCA4  \\\n",
              "0          0          0           0          0            0            0   \n",
              "1          1          0           0          0            0            0   \n",
              "2          0          0           0          0            0            0   \n",
              "3          0          0           0          0            0            0   \n",
              "4          0          0           0          0            0            0   \n",
              "\n",
              "   Ticket_SCAH  Ticket_SCOW  Ticket_SCPARIS  Ticket_SCParis  Ticket_SOC  \\\n",
              "0            0            0               0               0           0   \n",
              "1            0            0               0               0           0   \n",
              "2            0            0               0               0           0   \n",
              "3            0            0               0               0           0   \n",
              "4            0            0               0               0           0   \n",
              "\n",
              "   Ticket_SOP  Ticket_SOPP  Ticket_SOTONO2  Ticket_SOTONOQ  Ticket_SP  \\\n",
              "0           0            0               0               0          0   \n",
              "1           0            0               0               0          0   \n",
              "2           0            0               0               0          0   \n",
              "3           0            0               0               0          0   \n",
              "4           0            0               0               0          0   \n",
              "\n",
              "   Ticket_STONO  Ticket_STONO2  Ticket_STONOQ  Ticket_SWPP  Ticket_WC  \\\n",
              "0             0              0              0            0          0   \n",
              "1             0              0              0            0          0   \n",
              "2             0              1              0            0          0   \n",
              "3             0              0              0            0          0   \n",
              "4             0              0              0            0          0   \n",
              "\n",
              "   Ticket_WEP  Ticket_XXX  \n",
              "0           0           0  \n",
              "1           0           0  \n",
              "2           0           0  \n",
              "3           0           1  \n",
              "4           0           1  "
            ]
          },
          "metadata": {
            "tags": []
          },
          "execution_count": 63
        }
      ]
    },
    {
      "cell_type": "markdown",
      "metadata": {
        "id": "uB_vGR3usd8l"
      },
      "source": [
        "### Processing Family"
      ]
    },
    {
      "cell_type": "markdown",
      "metadata": {
        "id": "tLAgM4l4sd8m"
      },
      "source": [
        "This part includes creating new variables based on the size of the family (the size is by the way, another variable we create).\n",
        "\n",
        "This creation of new variables is done under a realistic assumption: Large families are grouped together, hence they are more likely to get rescued than people traveling alone."
      ]
    },
    {
      "cell_type": "code",
      "metadata": {
        "id": "5PtjzBkHsd8m"
      },
      "source": [
        "def process_family():\n",
        "    \n",
        "    global combined\n",
        "    # introducing a new feature : the size of families (including the passenger)\n",
        "    combined['FamilySize'] = combined['Parch'] + combined['SibSp'] + 1\n",
        "    \n",
        "    # introducing other features based on the family size\n",
        "    combined['Singleton'] = combined['FamilySize'].map(lambda s: 1 if s == 1 else 0)\n",
        "    combined['SmallFamily'] = combined['FamilySize'].map(lambda s: 1 if 2 <= s <= 4 else 0)\n",
        "    combined['LargeFamily'] = combined['FamilySize'].map(lambda s: 1 if 5 <= s else 0)\n",
        "    \n",
        "    status('family')\n",
        "    return combined"
      ],
      "execution_count": null,
      "outputs": []
    },
    {
      "cell_type": "markdown",
      "metadata": {
        "id": "xnF6ApYcsd8v"
      },
      "source": [
        "This function introduces 4 new features: \n",
        "\n",
        "- FamilySize : the total number of relatives including the passenger (him/her)self.\n",
        "- Sigleton : a boolean variable that describes families of size = 1\n",
        "- SmallFamily : a boolean variable that describes families of 2 <= size <= 4\n",
        "- LargeFamily : a boolean variable that describes families of 5 < size"
      ]
    },
    {
      "cell_type": "code",
      "metadata": {
        "id": "Ahwlnkq0sd8w",
        "colab": {
          "base_uri": "https://localhost:8080/"
        },
        "outputId": "097d42e2-88dc-413c-9c40-a3e9b94fafed"
      },
      "source": [
        "combined = process_family()"
      ],
      "execution_count": null,
      "outputs": [
        {
          "output_type": "stream",
          "text": [
            "Processing family : ok\n"
          ],
          "name": "stdout"
        }
      ]
    },
    {
      "cell_type": "code",
      "metadata": {
        "id": "KGrRVgZ6sd80",
        "colab": {
          "base_uri": "https://localhost:8080/"
        },
        "outputId": "ad459919-17d5-431c-8a46-ed1cd3f60050"
      },
      "source": [
        "print(combined.shape)"
      ],
      "execution_count": null,
      "outputs": [
        {
          "output_type": "stream",
          "text": [
            "(1309, 67)\n"
          ],
          "name": "stdout"
        }
      ]
    },
    {
      "cell_type": "markdown",
      "metadata": {
        "id": "TpvCrVAjsd88"
      },
      "source": [
        "We end up with a total of 67 features. "
      ]
    },
    {
      "cell_type": "code",
      "metadata": {
        "id": "CgZyXYHOsd88",
        "colab": {
          "base_uri": "https://localhost:8080/"
        },
        "outputId": "840a316b-2eba-4896-a21d-2683daac712b"
      },
      "source": [
        "combined.head()"
      ],
      "execution_count": null,
      "outputs": [
        {
          "output_type": "execute_result",
          "data": {
            "text/html": [
              "<div>\n",
              "<style scoped>\n",
              "    .dataframe tbody tr th:only-of-type {\n",
              "        vertical-align: middle;\n",
              "    }\n",
              "\n",
              "    .dataframe tbody tr th {\n",
              "        vertical-align: top;\n",
              "    }\n",
              "\n",
              "    .dataframe thead th {\n",
              "        text-align: right;\n",
              "    }\n",
              "</style>\n",
              "<table border=\"1\" class=\"dataframe\">\n",
              "  <thead>\n",
              "    <tr style=\"text-align: right;\">\n",
              "      <th></th>\n",
              "      <th>Sex</th>\n",
              "      <th>Age</th>\n",
              "      <th>SibSp</th>\n",
              "      <th>Parch</th>\n",
              "      <th>Fare</th>\n",
              "      <th>Title_Master</th>\n",
              "      <th>Title_Miss</th>\n",
              "      <th>Title_Mr</th>\n",
              "      <th>Title_Mrs</th>\n",
              "      <th>Title_Officer</th>\n",
              "      <th>Title_Royalty</th>\n",
              "      <th>Embarked_C</th>\n",
              "      <th>Embarked_Q</th>\n",
              "      <th>Embarked_S</th>\n",
              "      <th>Cabin_A</th>\n",
              "      <th>Cabin_B</th>\n",
              "      <th>Cabin_C</th>\n",
              "      <th>Cabin_D</th>\n",
              "      <th>Cabin_E</th>\n",
              "      <th>Cabin_F</th>\n",
              "      <th>Cabin_G</th>\n",
              "      <th>Cabin_T</th>\n",
              "      <th>Cabin_U</th>\n",
              "      <th>Pclass_1</th>\n",
              "      <th>Pclass_2</th>\n",
              "      <th>Pclass_3</th>\n",
              "      <th>Ticket_A</th>\n",
              "      <th>Ticket_A4</th>\n",
              "      <th>Ticket_A5</th>\n",
              "      <th>Ticket_AQ3</th>\n",
              "      <th>Ticket_AQ4</th>\n",
              "      <th>Ticket_AS</th>\n",
              "      <th>Ticket_C</th>\n",
              "      <th>Ticket_CA</th>\n",
              "      <th>Ticket_CASOTON</th>\n",
              "      <th>Ticket_FC</th>\n",
              "      <th>Ticket_FCC</th>\n",
              "      <th>Ticket_Fa</th>\n",
              "      <th>Ticket_LINE</th>\n",
              "      <th>Ticket_LP</th>\n",
              "      <th>Ticket_PC</th>\n",
              "      <th>Ticket_PP</th>\n",
              "      <th>Ticket_PPP</th>\n",
              "      <th>Ticket_SC</th>\n",
              "      <th>Ticket_SCA3</th>\n",
              "      <th>Ticket_SCA4</th>\n",
              "      <th>Ticket_SCAH</th>\n",
              "      <th>Ticket_SCOW</th>\n",
              "      <th>Ticket_SCPARIS</th>\n",
              "      <th>Ticket_SCParis</th>\n",
              "      <th>Ticket_SOC</th>\n",
              "      <th>Ticket_SOP</th>\n",
              "      <th>Ticket_SOPP</th>\n",
              "      <th>Ticket_SOTONO2</th>\n",
              "      <th>Ticket_SOTONOQ</th>\n",
              "      <th>Ticket_SP</th>\n",
              "      <th>Ticket_STONO</th>\n",
              "      <th>Ticket_STONO2</th>\n",
              "      <th>Ticket_STONOQ</th>\n",
              "      <th>Ticket_SWPP</th>\n",
              "      <th>Ticket_WC</th>\n",
              "      <th>Ticket_WEP</th>\n",
              "      <th>Ticket_XXX</th>\n",
              "      <th>FamilySize</th>\n",
              "      <th>Singleton</th>\n",
              "      <th>SmallFamily</th>\n",
              "      <th>LargeFamily</th>\n",
              "    </tr>\n",
              "  </thead>\n",
              "  <tbody>\n",
              "    <tr>\n",
              "      <th>0</th>\n",
              "      <td>1</td>\n",
              "      <td>22.0</td>\n",
              "      <td>1</td>\n",
              "      <td>0</td>\n",
              "      <td>7.2500</td>\n",
              "      <td>0</td>\n",
              "      <td>0</td>\n",
              "      <td>1</td>\n",
              "      <td>0</td>\n",
              "      <td>0</td>\n",
              "      <td>0</td>\n",
              "      <td>0</td>\n",
              "      <td>0</td>\n",
              "      <td>1</td>\n",
              "      <td>0</td>\n",
              "      <td>0</td>\n",
              "      <td>0</td>\n",
              "      <td>0</td>\n",
              "      <td>0</td>\n",
              "      <td>0</td>\n",
              "      <td>0</td>\n",
              "      <td>0</td>\n",
              "      <td>1</td>\n",
              "      <td>0</td>\n",
              "      <td>0</td>\n",
              "      <td>1</td>\n",
              "      <td>0</td>\n",
              "      <td>0</td>\n",
              "      <td>1</td>\n",
              "      <td>0</td>\n",
              "      <td>0</td>\n",
              "      <td>0</td>\n",
              "      <td>0</td>\n",
              "      <td>0</td>\n",
              "      <td>0</td>\n",
              "      <td>0</td>\n",
              "      <td>0</td>\n",
              "      <td>0</td>\n",
              "      <td>0</td>\n",
              "      <td>0</td>\n",
              "      <td>0</td>\n",
              "      <td>0</td>\n",
              "      <td>0</td>\n",
              "      <td>0</td>\n",
              "      <td>0</td>\n",
              "      <td>0</td>\n",
              "      <td>0</td>\n",
              "      <td>0</td>\n",
              "      <td>0</td>\n",
              "      <td>0</td>\n",
              "      <td>0</td>\n",
              "      <td>0</td>\n",
              "      <td>0</td>\n",
              "      <td>0</td>\n",
              "      <td>0</td>\n",
              "      <td>0</td>\n",
              "      <td>0</td>\n",
              "      <td>0</td>\n",
              "      <td>0</td>\n",
              "      <td>0</td>\n",
              "      <td>0</td>\n",
              "      <td>0</td>\n",
              "      <td>0</td>\n",
              "      <td>2</td>\n",
              "      <td>0</td>\n",
              "      <td>1</td>\n",
              "      <td>0</td>\n",
              "    </tr>\n",
              "    <tr>\n",
              "      <th>1</th>\n",
              "      <td>0</td>\n",
              "      <td>38.0</td>\n",
              "      <td>1</td>\n",
              "      <td>0</td>\n",
              "      <td>71.2833</td>\n",
              "      <td>0</td>\n",
              "      <td>0</td>\n",
              "      <td>0</td>\n",
              "      <td>1</td>\n",
              "      <td>0</td>\n",
              "      <td>0</td>\n",
              "      <td>1</td>\n",
              "      <td>0</td>\n",
              "      <td>0</td>\n",
              "      <td>0</td>\n",
              "      <td>0</td>\n",
              "      <td>1</td>\n",
              "      <td>0</td>\n",
              "      <td>0</td>\n",
              "      <td>0</td>\n",
              "      <td>0</td>\n",
              "      <td>0</td>\n",
              "      <td>0</td>\n",
              "      <td>1</td>\n",
              "      <td>0</td>\n",
              "      <td>0</td>\n",
              "      <td>0</td>\n",
              "      <td>0</td>\n",
              "      <td>0</td>\n",
              "      <td>0</td>\n",
              "      <td>0</td>\n",
              "      <td>0</td>\n",
              "      <td>0</td>\n",
              "      <td>0</td>\n",
              "      <td>0</td>\n",
              "      <td>0</td>\n",
              "      <td>0</td>\n",
              "      <td>0</td>\n",
              "      <td>0</td>\n",
              "      <td>0</td>\n",
              "      <td>1</td>\n",
              "      <td>0</td>\n",
              "      <td>0</td>\n",
              "      <td>0</td>\n",
              "      <td>0</td>\n",
              "      <td>0</td>\n",
              "      <td>0</td>\n",
              "      <td>0</td>\n",
              "      <td>0</td>\n",
              "      <td>0</td>\n",
              "      <td>0</td>\n",
              "      <td>0</td>\n",
              "      <td>0</td>\n",
              "      <td>0</td>\n",
              "      <td>0</td>\n",
              "      <td>0</td>\n",
              "      <td>0</td>\n",
              "      <td>0</td>\n",
              "      <td>0</td>\n",
              "      <td>0</td>\n",
              "      <td>0</td>\n",
              "      <td>0</td>\n",
              "      <td>0</td>\n",
              "      <td>2</td>\n",
              "      <td>0</td>\n",
              "      <td>1</td>\n",
              "      <td>0</td>\n",
              "    </tr>\n",
              "    <tr>\n",
              "      <th>2</th>\n",
              "      <td>0</td>\n",
              "      <td>26.0</td>\n",
              "      <td>0</td>\n",
              "      <td>0</td>\n",
              "      <td>7.9250</td>\n",
              "      <td>0</td>\n",
              "      <td>1</td>\n",
              "      <td>0</td>\n",
              "      <td>0</td>\n",
              "      <td>0</td>\n",
              "      <td>0</td>\n",
              "      <td>0</td>\n",
              "      <td>0</td>\n",
              "      <td>1</td>\n",
              "      <td>0</td>\n",
              "      <td>0</td>\n",
              "      <td>0</td>\n",
              "      <td>0</td>\n",
              "      <td>0</td>\n",
              "      <td>0</td>\n",
              "      <td>0</td>\n",
              "      <td>0</td>\n",
              "      <td>1</td>\n",
              "      <td>0</td>\n",
              "      <td>0</td>\n",
              "      <td>1</td>\n",
              "      <td>0</td>\n",
              "      <td>0</td>\n",
              "      <td>0</td>\n",
              "      <td>0</td>\n",
              "      <td>0</td>\n",
              "      <td>0</td>\n",
              "      <td>0</td>\n",
              "      <td>0</td>\n",
              "      <td>0</td>\n",
              "      <td>0</td>\n",
              "      <td>0</td>\n",
              "      <td>0</td>\n",
              "      <td>0</td>\n",
              "      <td>0</td>\n",
              "      <td>0</td>\n",
              "      <td>0</td>\n",
              "      <td>0</td>\n",
              "      <td>0</td>\n",
              "      <td>0</td>\n",
              "      <td>0</td>\n",
              "      <td>0</td>\n",
              "      <td>0</td>\n",
              "      <td>0</td>\n",
              "      <td>0</td>\n",
              "      <td>0</td>\n",
              "      <td>0</td>\n",
              "      <td>0</td>\n",
              "      <td>0</td>\n",
              "      <td>0</td>\n",
              "      <td>0</td>\n",
              "      <td>0</td>\n",
              "      <td>1</td>\n",
              "      <td>0</td>\n",
              "      <td>0</td>\n",
              "      <td>0</td>\n",
              "      <td>0</td>\n",
              "      <td>0</td>\n",
              "      <td>1</td>\n",
              "      <td>1</td>\n",
              "      <td>0</td>\n",
              "      <td>0</td>\n",
              "    </tr>\n",
              "    <tr>\n",
              "      <th>3</th>\n",
              "      <td>0</td>\n",
              "      <td>35.0</td>\n",
              "      <td>1</td>\n",
              "      <td>0</td>\n",
              "      <td>53.1000</td>\n",
              "      <td>0</td>\n",
              "      <td>0</td>\n",
              "      <td>0</td>\n",
              "      <td>1</td>\n",
              "      <td>0</td>\n",
              "      <td>0</td>\n",
              "      <td>0</td>\n",
              "      <td>0</td>\n",
              "      <td>1</td>\n",
              "      <td>0</td>\n",
              "      <td>0</td>\n",
              "      <td>1</td>\n",
              "      <td>0</td>\n",
              "      <td>0</td>\n",
              "      <td>0</td>\n",
              "      <td>0</td>\n",
              "      <td>0</td>\n",
              "      <td>0</td>\n",
              "      <td>1</td>\n",
              "      <td>0</td>\n",
              "      <td>0</td>\n",
              "      <td>0</td>\n",
              "      <td>0</td>\n",
              "      <td>0</td>\n",
              "      <td>0</td>\n",
              "      <td>0</td>\n",
              "      <td>0</td>\n",
              "      <td>0</td>\n",
              "      <td>0</td>\n",
              "      <td>0</td>\n",
              "      <td>0</td>\n",
              "      <td>0</td>\n",
              "      <td>0</td>\n",
              "      <td>0</td>\n",
              "      <td>0</td>\n",
              "      <td>0</td>\n",
              "      <td>0</td>\n",
              "      <td>0</td>\n",
              "      <td>0</td>\n",
              "      <td>0</td>\n",
              "      <td>0</td>\n",
              "      <td>0</td>\n",
              "      <td>0</td>\n",
              "      <td>0</td>\n",
              "      <td>0</td>\n",
              "      <td>0</td>\n",
              "      <td>0</td>\n",
              "      <td>0</td>\n",
              "      <td>0</td>\n",
              "      <td>0</td>\n",
              "      <td>0</td>\n",
              "      <td>0</td>\n",
              "      <td>0</td>\n",
              "      <td>0</td>\n",
              "      <td>0</td>\n",
              "      <td>0</td>\n",
              "      <td>0</td>\n",
              "      <td>1</td>\n",
              "      <td>2</td>\n",
              "      <td>0</td>\n",
              "      <td>1</td>\n",
              "      <td>0</td>\n",
              "    </tr>\n",
              "    <tr>\n",
              "      <th>4</th>\n",
              "      <td>1</td>\n",
              "      <td>35.0</td>\n",
              "      <td>0</td>\n",
              "      <td>0</td>\n",
              "      <td>8.0500</td>\n",
              "      <td>0</td>\n",
              "      <td>0</td>\n",
              "      <td>1</td>\n",
              "      <td>0</td>\n",
              "      <td>0</td>\n",
              "      <td>0</td>\n",
              "      <td>0</td>\n",
              "      <td>0</td>\n",
              "      <td>1</td>\n",
              "      <td>0</td>\n",
              "      <td>0</td>\n",
              "      <td>0</td>\n",
              "      <td>0</td>\n",
              "      <td>0</td>\n",
              "      <td>0</td>\n",
              "      <td>0</td>\n",
              "      <td>0</td>\n",
              "      <td>1</td>\n",
              "      <td>0</td>\n",
              "      <td>0</td>\n",
              "      <td>1</td>\n",
              "      <td>0</td>\n",
              "      <td>0</td>\n",
              "      <td>0</td>\n",
              "      <td>0</td>\n",
              "      <td>0</td>\n",
              "      <td>0</td>\n",
              "      <td>0</td>\n",
              "      <td>0</td>\n",
              "      <td>0</td>\n",
              "      <td>0</td>\n",
              "      <td>0</td>\n",
              "      <td>0</td>\n",
              "      <td>0</td>\n",
              "      <td>0</td>\n",
              "      <td>0</td>\n",
              "      <td>0</td>\n",
              "      <td>0</td>\n",
              "      <td>0</td>\n",
              "      <td>0</td>\n",
              "      <td>0</td>\n",
              "      <td>0</td>\n",
              "      <td>0</td>\n",
              "      <td>0</td>\n",
              "      <td>0</td>\n",
              "      <td>0</td>\n",
              "      <td>0</td>\n",
              "      <td>0</td>\n",
              "      <td>0</td>\n",
              "      <td>0</td>\n",
              "      <td>0</td>\n",
              "      <td>0</td>\n",
              "      <td>0</td>\n",
              "      <td>0</td>\n",
              "      <td>0</td>\n",
              "      <td>0</td>\n",
              "      <td>0</td>\n",
              "      <td>1</td>\n",
              "      <td>1</td>\n",
              "      <td>1</td>\n",
              "      <td>0</td>\n",
              "      <td>0</td>\n",
              "    </tr>\n",
              "  </tbody>\n",
              "</table>\n",
              "</div>"
            ],
            "text/plain": [
              "   Sex   Age  SibSp  Parch     Fare  Title_Master  Title_Miss  Title_Mr  \\\n",
              "0    1  22.0      1      0   7.2500             0           0         1   \n",
              "1    0  38.0      1      0  71.2833             0           0         0   \n",
              "2    0  26.0      0      0   7.9250             0           1         0   \n",
              "3    0  35.0      1      0  53.1000             0           0         0   \n",
              "4    1  35.0      0      0   8.0500             0           0         1   \n",
              "\n",
              "   Title_Mrs  Title_Officer  Title_Royalty  Embarked_C  Embarked_Q  \\\n",
              "0          0              0              0           0           0   \n",
              "1          1              0              0           1           0   \n",
              "2          0              0              0           0           0   \n",
              "3          1              0              0           0           0   \n",
              "4          0              0              0           0           0   \n",
              "\n",
              "   Embarked_S  Cabin_A  Cabin_B  Cabin_C  Cabin_D  Cabin_E  Cabin_F  Cabin_G  \\\n",
              "0           1        0        0        0        0        0        0        0   \n",
              "1           0        0        0        1        0        0        0        0   \n",
              "2           1        0        0        0        0        0        0        0   \n",
              "3           1        0        0        1        0        0        0        0   \n",
              "4           1        0        0        0        0        0        0        0   \n",
              "\n",
              "   Cabin_T  Cabin_U  Pclass_1  Pclass_2  Pclass_3  Ticket_A  Ticket_A4  \\\n",
              "0        0        1         0         0         1         0          0   \n",
              "1        0        0         1         0         0         0          0   \n",
              "2        0        1         0         0         1         0          0   \n",
              "3        0        0         1         0         0         0          0   \n",
              "4        0        1         0         0         1         0          0   \n",
              "\n",
              "   Ticket_A5  Ticket_AQ3  Ticket_AQ4  Ticket_AS  Ticket_C  Ticket_CA  \\\n",
              "0          1           0           0          0         0          0   \n",
              "1          0           0           0          0         0          0   \n",
              "2          0           0           0          0         0          0   \n",
              "3          0           0           0          0         0          0   \n",
              "4          0           0           0          0         0          0   \n",
              "\n",
              "   Ticket_CASOTON  Ticket_FC  Ticket_FCC  Ticket_Fa  Ticket_LINE  Ticket_LP  \\\n",
              "0               0          0           0          0            0          0   \n",
              "1               0          0           0          0            0          0   \n",
              "2               0          0           0          0            0          0   \n",
              "3               0          0           0          0            0          0   \n",
              "4               0          0           0          0            0          0   \n",
              "\n",
              "   Ticket_PC  Ticket_PP  Ticket_PPP  Ticket_SC  Ticket_SCA3  Ticket_SCA4  \\\n",
              "0          0          0           0          0            0            0   \n",
              "1          1          0           0          0            0            0   \n",
              "2          0          0           0          0            0            0   \n",
              "3          0          0           0          0            0            0   \n",
              "4          0          0           0          0            0            0   \n",
              "\n",
              "   Ticket_SCAH  Ticket_SCOW  Ticket_SCPARIS  Ticket_SCParis  Ticket_SOC  \\\n",
              "0            0            0               0               0           0   \n",
              "1            0            0               0               0           0   \n",
              "2            0            0               0               0           0   \n",
              "3            0            0               0               0           0   \n",
              "4            0            0               0               0           0   \n",
              "\n",
              "   Ticket_SOP  Ticket_SOPP  Ticket_SOTONO2  Ticket_SOTONOQ  Ticket_SP  \\\n",
              "0           0            0               0               0          0   \n",
              "1           0            0               0               0          0   \n",
              "2           0            0               0               0          0   \n",
              "3           0            0               0               0          0   \n",
              "4           0            0               0               0          0   \n",
              "\n",
              "   Ticket_STONO  Ticket_STONO2  Ticket_STONOQ  Ticket_SWPP  Ticket_WC  \\\n",
              "0             0              0              0            0          0   \n",
              "1             0              0              0            0          0   \n",
              "2             0              1              0            0          0   \n",
              "3             0              0              0            0          0   \n",
              "4             0              0              0            0          0   \n",
              "\n",
              "   Ticket_WEP  Ticket_XXX  FamilySize  Singleton  SmallFamily  LargeFamily  \n",
              "0           0           0           2          0            1            0  \n",
              "1           0           0           2          0            1            0  \n",
              "2           0           0           1          1            0            0  \n",
              "3           0           1           2          0            1            0  \n",
              "4           0           1           1          1            0            0  "
            ]
          },
          "metadata": {
            "tags": []
          },
          "execution_count": 67
        }
      ]
    },
    {
      "cell_type": "markdown",
      "metadata": {
        "collapsed": true,
        "id": "eR9_Vr2Qsd9H"
      },
      "source": [
        "# III - Modeling"
      ]
    },
    {
      "cell_type": "markdown",
      "metadata": {
        "id": "wb-v-Comsd9I"
      },
      "source": [
        "In this part, we use our knowledge of the passengers based on the features we created and then build a statistical model. You can think of this model as a box that crunches the information of any new passenger and decides whether or not he survives.\n",
        "\n",
        "There is a wide variety of models to use, from logistic regression to decision trees and more sophisticated ones such as random forests and gradient boosted trees.\n",
        "\n",
        "We'll be using Random Forests. Random Froests has proven a great efficiency in Kaggle competitions.\n",
        "\n",
        "For more details about why ensemble methods perform well, you can refer to these posts:\n",
        "\n",
        "- http://mlwave.com/kaggle-ensembling-guide/\n",
        "- http://www.overkillanalytics.net/more-is-always-better-the-power-of-simple-ensembles/\n",
        "\n",
        "Back to our problem, we now have to:\n",
        "\n",
        "1. Break the combined dataset in train set and test set.\n",
        "2. Use the train set to build a predictive model.\n",
        "3. Evaluate the model using the test set.\n",
        "4. Test the model using the test set and generate and output file for the submission.\n",
        "\n",
        "Keep in mind that we'll have to reiterate on 2. and 3. until an acceptable evaluation score is achieved."
      ]
    },
    {
      "cell_type": "markdown",
      "metadata": {
        "id": "IOkUjk1isd9I"
      },
      "source": [
        "Let's start by importing the useful libraries."
      ]
    },
    {
      "cell_type": "code",
      "metadata": {
        "id": "7yMzBsy4sd9J"
      },
      "source": [
        "from sklearn.pipeline import make_pipeline\n",
        "from sklearn.ensemble import RandomForestClassifier\n",
        "from sklearn.ensemble.gradient_boosting import GradientBoostingClassifier\n",
        "from sklearn.feature_selection import SelectKBest\n",
        "from sklearn.model_selection import StratifiedKFold\n",
        "from sklearn.model_selection import GridSearchCV\n",
        "from sklearn.model_selection import cross_val_score\n",
        "from sklearn.feature_selection import SelectFromModel\n",
        "from sklearn.linear_model import LogisticRegression, LogisticRegressionCV"
      ],
      "execution_count": null,
      "outputs": []
    },
    {
      "cell_type": "markdown",
      "metadata": {
        "id": "H1Dl48ZTsd9S"
      },
      "source": [
        "To evaluate our model we'll be using a 5-fold cross validation with the accuracy since it's the metric that the competition uses in the leaderboard.\n",
        "\n",
        "To do that, we'll define a small scoring function. "
      ]
    },
    {
      "cell_type": "code",
      "metadata": {
        "id": "aYjn91ywsd9T"
      },
      "source": [
        "def compute_score(clf, X, y, scoring='accuracy'):\n",
        "    xval = cross_val_score(clf, X, y, cv = 5, scoring=scoring)\n",
        "    return np.mean(xval)"
      ],
      "execution_count": null,
      "outputs": []
    },
    {
      "cell_type": "markdown",
      "metadata": {
        "id": "omrmYrUTsd9V"
      },
      "source": [
        "Recovering the train set and the test set from the combined dataset is an easy task."
      ]
    },
    {
      "cell_type": "code",
      "metadata": {
        "id": "R8f22uqNsd9V"
      },
      "source": [
        "def recover_train_test_target():\n",
        "    global combined\n",
        "    \n",
        "    targets = pd.read_csv(io.BytesIO(uploaded['train.csv']), usecols=['Survived'])['Survived'].values\n",
        "    train = combined.iloc[:891]\n",
        "    test = combined.iloc[891:]\n",
        "    \n",
        "    return train, test, targets"
      ],
      "execution_count": null,
      "outputs": []
    },
    {
      "cell_type": "code",
      "metadata": {
        "id": "HYOypaQFsd9Y"
      },
      "source": [
        "train, test, targets = recover_train_test_target()"
      ],
      "execution_count": null,
      "outputs": []
    },
    {
      "cell_type": "markdown",
      "metadata": {
        "id": "1tRI04wBsd9b"
      },
      "source": [
        "## Feature selection\n",
        "\n",
        "We've come up to more than 30 features so far. This number is quite large. \n",
        "\n",
        "When feature engineering is done, we usually tend to decrease the dimensionality by selecting the \"right\" number of features that capture the essential.\n",
        "\n",
        "In fact, feature selection comes with many benefits:\n",
        "\n",
        "- It decreases redundancy among the data\n",
        "- It speeds up the training process\n",
        "- It reduces overfitting"
      ]
    },
    {
      "cell_type": "markdown",
      "metadata": {
        "id": "TylMMhWPsd-I"
      },
      "source": [
        "### Let's try different base models"
      ]
    },
    {
      "cell_type": "code",
      "metadata": {
        "id": "HxEeXzjIsd-I"
      },
      "source": [
        "logreg = LogisticRegression()\n",
        "logreg_cv = LogisticRegressionCV()\n",
        "rf = RandomForestClassifier()\n",
        "gboost = GradientBoostingClassifier()\n",
        "\n",
        "models = [logreg, logreg_cv, rf, gboost]"
      ],
      "execution_count": null,
      "outputs": []
    },
    {
      "cell_type": "code",
      "metadata": {
        "id": "-hm-8MDFsd-K",
        "colab": {
          "base_uri": "https://localhost:8080/"
        },
        "outputId": "924eb47b-fee8-4ee2-a453-54bb1a250db8"
      },
      "source": [
        "for model in models:\n",
        "    print('Cross-validation of : {0}'.format(model.__class__))\n",
        "    score = compute_score(clf=model, X=train_reduced, y=targets, scoring='accuracy')\n",
        "    print('CV score = {0}'.format(score))\n",
        "    print('****')"
      ],
      "execution_count": null,
      "outputs": [
        {
          "output_type": "stream",
          "text": [
            "Cross-validation of : <class 'sklearn.linear_model._logistic.LogisticRegression'>\n",
            "CV score = 0.8170547988199109\n",
            "****\n",
            "Cross-validation of : <class 'sklearn.linear_model._logistic.LogisticRegressionCV'>\n",
            "CV score = 0.827154604230745\n",
            "****\n",
            "Cross-validation of : <class 'sklearn.ensemble._forest.RandomForestClassifier'>\n",
            "CV score = 0.8148138848785388\n",
            "****\n",
            "Cross-validation of : <class 'sklearn.ensemble._gb.GradientBoostingClassifier'>\n",
            "CV score = 0.830525390747599\n",
            "****\n"
          ],
          "name": "stdout"
        }
      ]
    },
    {
      "cell_type": "markdown",
      "metadata": {
        "id": "4bOvXQOksd-M"
      },
      "source": [
        "### Hyperparameters tuning"
      ]
    },
    {
      "cell_type": "markdown",
      "metadata": {
        "id": "7Or4EzxQsd-T"
      },
      "source": [
        "I haven't personally uploaded a submission based on model blending but here's how you could do it"
      ]
    },
    {
      "cell_type": "code",
      "metadata": {
        "id": "3AZJYWF9sd-U"
      },
      "source": [
        "trained_models = []\n",
        "for model in models:\n",
        "    model.fit(train, targets)\n",
        "    trained_models.append(model)\n",
        "\n",
        "predictions = []\n",
        "for model in trained_models:\n",
        "    predictions.append(model.predict_proba(test)[:, 1])\n",
        "\n",
        "predictions_df = pd.DataFrame(predictions).T\n",
        "predictions_df['out'] = predictions_df.mean(axis=1)\n",
        "predictions_df['PassengerId'] = aux['PassengerId']\n",
        "predictions_df['out'] = predictions_df['out'].map(lambda s: 1 if s >= 0.5 else 0)\n",
        "\n",
        "predictions_df = predictions_df[['PassengerId', 'out']]\n",
        "predictions_df.columns = ['PassengerId', 'Survived']"
      ],
      "execution_count": null,
      "outputs": []
    },
    {
      "cell_type": "code",
      "metadata": {
        "id": "PQLzgBKXsd-c"
      },
      "source": [
        "predictions_df.to_csv('./predictions/blending_base_models.csv', index=False)"
      ],
      "execution_count": null,
      "outputs": []
    },
    {
      "cell_type": "markdown",
      "metadata": {
        "id": "WHCjvP4psd-f"
      },
      "source": [
        "To have a good blending submission, the base models should be different and their correlations uncorrelated."
      ]
    },
    {
      "cell_type": "markdown",
      "metadata": {
        "id": "RpJPn_ICsd9c"
      },
      "source": [
        "Tree-based estimators can be used to compute feature importances, which in turn can be used to discard irrelevant features."
      ]
    },
    {
      "cell_type": "code",
      "metadata": {
        "id": "p5ylS94Isd9f"
      },
      "source": [
        "clf = RandomForestClassifier(n_estimators=50, max_features='sqrt')\n",
        "clf = clf.fit(train, targets)"
      ],
      "execution_count": null,
      "outputs": []
    },
    {
      "cell_type": "markdown",
      "metadata": {
        "id": "md0DM8xzsd9p"
      },
      "source": [
        "Let's have a look at the importance of each feature."
      ]
    },
    {
      "cell_type": "code",
      "metadata": {
        "id": "W4lT82NDsd9p"
      },
      "source": [
        "features = pd.DataFrame()\n",
        "features['feature'] = train.columns\n",
        "features['importance'] = clf.feature_importances_\n",
        "features.sort_values(by=['importance'], ascending=True, inplace=True)\n",
        "features.set_index('feature', inplace=True)"
      ],
      "execution_count": null,
      "outputs": []
    },
    {
      "cell_type": "code",
      "metadata": {
        "id": "3gOAprt6sd9v",
        "colab": {
          "base_uri": "https://localhost:8080/",
          "height": 765
        },
        "outputId": "76a800ea-31bf-42dc-b612-f9aa23444736"
      },
      "source": [
        "features.plot(kind='barh', figsize=(15, 15))"
      ],
      "execution_count": null,
      "outputs": [
        {
          "output_type": "execute_result",
          "data": {
            "text/plain": [
              "<matplotlib.axes._subplots.AxesSubplot at 0x7f617ec770b8>"
            ]
          },
          "metadata": {
            "tags": []
          },
          "execution_count": 77
        },
        {
          "output_type": "display_data",
          "data": {
            "image/png": "[encoded data removed]",
            "text/plain": [
              "<Figure size 2250x2250 with 1 Axes>"
            ]
          },
          "metadata": {
            "tags": [],
            "needs_background": "light"
          }
        }
      ]
    },
    {
      "cell_type": "markdown",
      "metadata": {
        "id": "v6ekdLSNsd95"
      },
      "source": [
        "![energy](https://github.com/ahmedbesbes/How-to-score-0.8134-in-Titanic-Kaggle-Challenge/blob/master/images/article_1/8.png?raw=1)"
      ]
    },
    {
      "cell_type": "markdown",
      "metadata": {
        "id": "EnMbOgh4sd95"
      },
      "source": [
        "As you may notice, there is a great importance linked to Title_Mr, Age, Fare, and Sex. \n",
        "\n",
        "There is also an important correlation with the Passenger_Id.\n",
        "\n",
        "Let's now transform our train set and test set in a more compact datasets. "
      ]
    },
    {
      "cell_type": "code",
      "metadata": {
        "id": "aZCndIQ7sd96",
        "colab": {
          "base_uri": "https://localhost:8080/"
        },
        "outputId": "8686606d-cf53-4867-ef6a-dc9142aa81f1"
      },
      "source": [
        "model = SelectFromModel(clf, prefit=True)\n",
        "train_reduced = model.transform(train)\n",
        "print(train_reduced.shape)"
      ],
      "execution_count": null,
      "outputs": [
        {
          "output_type": "stream",
          "text": [
            "(891, 14)\n"
          ],
          "name": "stdout"
        }
      ]
    },
    {
      "cell_type": "code",
      "metadata": {
        "id": "x7sVhK0Rsd9-",
        "colab": {
          "base_uri": "https://localhost:8080/"
        },
        "outputId": "9785ee42-1dcb-4475-de2b-b74c6c2a0667"
      },
      "source": [
        "test_reduced = model.transform(test)\n",
        "print(test_reduced.shape)"
      ],
      "execution_count": null,
      "outputs": [
        {
          "output_type": "stream",
          "text": [
            "(418, 14)\n"
          ],
          "name": "stdout"
        }
      ]
    },
    {
      "cell_type": "markdown",
      "metadata": {
        "id": "GWWDmslFsd-H"
      },
      "source": [
        "Yay! Now we're down to a lot less features."
      ]
    },
    {
      "cell_type": "markdown",
      "metadata": {
        "id": "z8ZLfhklsd-H"
      },
      "source": [
        "We'll see if we'll use the reduced or the full version of the train set."
      ]
    },
    {
      "cell_type": "markdown",
      "metadata": {
        "id": "ZRVlrknSsd-M"
      },
      "source": [
        "As mentioned in the beginning of the Modeling part, we will be using a Random Forest model. It may not be the best model for this task but we'll show how to tune. This work can be applied to different models.\n",
        "\n",
        "Random Forest are quite handy. They do however come with some parameters to tweak in order to get an optimal model for the prediction task.\n",
        "\n",
        "To learn more about Random Forests, you can refer to this <a href=\"https://www.analyticsvidhya.com/blog/2015/06/tuning-random-forest-model/\">link </a>: \n",
        "\n",
        "Additionally, we'll use the full train set."
      ]
    },
    {
      "cell_type": "code",
      "metadata": {
        "scrolled": false,
        "id": "07Xy4_RAsd-M"
      },
      "source": [
        "# turn run_gs to True if you want to run the gridsearch again.\n",
        "run_gs = False\n",
        "\n",
        "if run_gs:\n",
        "    parameter_grid = {\n",
        "                 'max_depth' : [4, 6, 8],\n",
        "                 'n_estimators': [50, 10],\n",
        "                 'max_features': ['sqrt', 'auto', 'log2'],\n",
        "                 'min_samples_split': [2, 3, 10],\n",
        "                 'min_samples_leaf': [1, 3, 10],\n",
        "                 'bootstrap': [True, False],\n",
        "                 }\n",
        "    forest = RandomForestClassifier()\n",
        "    cross_validation = StratifiedKFold(n_splits=5)\n",
        "\n",
        "    grid_search = GridSearchCV(forest,\n",
        "                               scoring='accuracy',\n",
        "                               param_grid=parameter_grid,\n",
        "                               cv=cross_validation,\n",
        "                               verbose=1\n",
        "                              )\n",
        "\n",
        "    grid_search.fit(train, targets)\n",
        "    model = grid_search\n",
        "    parameters = grid_search.best_params_\n",
        "\n",
        "    print('Best score: {}'.format(grid_search.best_score_))\n",
        "    print('Best parameters: {}'.format(grid_search.best_params_))\n",
        "    \n",
        "else: \n",
        "    parameters = {'bootstrap': False, 'min_samples_leaf': 1, 'n_estimators': 50, \n",
        "                  'min_samples_split': 3, 'max_features': 'sqrt', 'max_depth': 4}\n",
        "    \n",
        "    model = RandomForestClassifier(**parameters)\n",
        "    model.fit(train, targets)"
      ],
      "execution_count": null,
      "outputs": []
    },
    {
      "cell_type": "markdown",
      "metadata": {
        "id": "5DXFlWt0sd-O"
      },
      "source": [
        "Now that the model is built by scanning several combinations of the hyperparameters, we can generate an output file to submit on Kaggle."
      ]
    },
    {
      "cell_type": "code",
      "metadata": {
        "id": "PcKEovkNsd-P"
      },
      "source": [
        "output = model.predict(test).astype(int)\n",
        "df_output = pd.DataFrame()\n",
        "aux = pd.read_csv(io.BytesIO(uploaded['test.csv']))\n",
        "df_output['PassengerId'] = aux['PassengerId']\n",
        "df_output['Survived'] = output\n",
        "df_output[['PassengerId','Survived']].to_csv('gridsearch_rf.csv', index=False)"
      ],
      "execution_count": null,
      "outputs": []
    },
    {
      "cell_type": "markdown",
      "metadata": {
        "id": "qXIMx9xhsd-T"
      },
      "source": [
        "### [BONUS]  Blending different models"
      ]
    },
    {
      "cell_type": "markdown",
      "metadata": {
        "id": "qfZzdGZ6hkog"
      },
      "source": [
        "I haven't personally uploaded a submission based on model blending but here's how you could do it"
      ]
    },
    {
      "cell_type": "code",
      "metadata": {
        "id": "Wgpx0a65hkoi"
      },
      "source": [
        "trained_models = []\n",
        "for model in models:\n",
        "    model.fit(train, targets)\n",
        "    trained_models.append(model)\n",
        "\n",
        "predictions = []\n",
        "for model in trained_models:\n",
        "    predictions.append(model.predict_proba(test)[:, 1])\n",
        "\n",
        "predictions_df = pd.DataFrame(predictions).T\n",
        "predictions_df['out'] = predictions_df.mean(axis=1)\n",
        "predictions_df['PassengerId'] = aux['PassengerId']\n",
        "predictions_df['out'] = predictions_df['out'].map(lambda s: 1 if s >= 0.5 else 0)\n",
        "\n",
        "predictions_df = predictions_df[['PassengerId', 'out']]\n",
        "predictions_df.columns = ['PassengerId', 'Survived']"
      ],
      "execution_count": null,
      "outputs": []
    },
    {
      "cell_type": "code",
      "metadata": {
        "id": "J4KxghMyhkoq"
      },
      "source": [
        "predictions_df.to_csv('blending_base_models.csv', index=False)"
      ],
      "execution_count": null,
      "outputs": []
    },
    {
      "cell_type": "markdown",
      "metadata": {
        "id": "TG6nb0Twhkot"
      },
      "source": [
        "To have a good blending submission, the base models should be different and their correlations uncorrelated."
      ]
    },
    {
      "cell_type": "markdown",
      "metadata": {
        "collapsed": true,
        "id": "_Xp8pDlqsd-n"
      },
      "source": [
        "In this article, we explored an interesting dataset brought to us by <a href=\"http://kaggle.com\">Kaggle</a>.\n",
        "\n",
        "We went through the basic bricks of a data science pipeline:\n",
        "\n",
        "- Data exploration and visualization: an initial step to formulate hypotheses\n",
        "- Data cleaning \n",
        "- Feature engineering \n",
        "- Feature selection\n",
        "- Hyperparameters tuning\n",
        "- Submission\n",
        "- Blending\n",
        "\n",
        "This post can be downloaded as a notebook if you ever want to test and play with it : <a href=\"https://github.com/ahmedbesbes/post1/blob/master/titanic-article.ipynb\"> my github repo </a>\n",
        "\n",
        "Lots of articles have been written about this challenge, so obviously there is a room for improvement.\n",
        "\n",
        "Here is what I suggest for next steps:\n",
        "\n",
        "- Dig more in the data and eventually build new features.\n",
        "- Try different models : logistic regressions, Gradient Boosted trees, XGboost, ...\n",
        "- Try ensemble learning techniques (stacking)\n",
        "- Run auto-ML frameworks\n",
        "\n",
        "I would be more than happy if you could find out a way to improve my solution. This could make me update the article and definitely give you credit for that. So feel free to post a comment."
      ]
    },
    {
      "cell_type": "markdown",
      "metadata": {
        "collapsed": true,
        "id": "gLODhMsgsd-j"
      },
      "source": [
        "# IV - Conclusion"
      ]
    }
  ]
}